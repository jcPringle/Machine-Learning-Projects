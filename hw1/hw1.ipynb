{
  "cells": [
    {
      "cell_type": "markdown",
      "metadata": {
        "id": "AJHX-G_ruxUB"
      },
      "source": [
        "#Introduction\n",
        "\n",
        "I have always taken an interest in how machine learning can be implemented into the medical field so for this project I will be using logistic regression to predict the risk of developing diabetes based on early symptoms and various other patient attributes. This is a good problem for logistic regression because the patient will either be positive or negative, meaning that we need to predict is a probability. Logistic regression returns numbers between 0 and 1 which we can map to probabilities, and then round to determine a decisive answer.\n"
      ]
    },
    {
      "cell_type": "code",
      "execution_count": 432,
      "metadata": {
        "id": "yyfA8eEditAB",
        "colab": {
          "base_uri": "https://localhost:8080/"
        },
        "outputId": "52e61feb-17f2-4de6-a195-43a581e6937a"
      },
      "outputs": [
        {
          "output_type": "stream",
          "name": "stdout",
          "text": [
            "Drive already mounted at /content/drive; to attempt to forcibly remount, call drive.mount(\"/content/drive\", force_remount=True).\n"
          ]
        }
      ],
      "source": [
        "from google.colab import drive\n",
        "drive.mount('/content/drive')"
      ]
    },
    {
      "cell_type": "code",
      "execution_count": 433,
      "metadata": {
        "colab": {
          "base_uri": "https://localhost:8080/",
          "height": 206
        },
        "id": "7KK5EuD0AhPO",
        "outputId": "257bf40d-87a5-44ae-c9a5-6324ec38a5af"
      },
      "outputs": [
        {
          "output_type": "execute_result",
          "data": {
            "text/plain": [
              "   Age Gender Polyuria Polydipsia sudden weight loss weakness Polyphagia  \\\n",
              "0   40   Male       No        Yes                 No      Yes         No   \n",
              "1   58   Male       No         No                 No      Yes         No   \n",
              "2   41   Male      Yes         No                 No      Yes        Yes   \n",
              "3   45   Male       No         No                Yes      Yes        Yes   \n",
              "4   60   Male      Yes        Yes                Yes      Yes        Yes   \n",
              "\n",
              "  Genital thrush visual blurring Itching Irritability delayed healing  \\\n",
              "0             No              No     Yes           No             Yes   \n",
              "1             No             Yes      No           No              No   \n",
              "2             No              No     Yes           No             Yes   \n",
              "3            Yes              No     Yes           No             Yes   \n",
              "4             No             Yes     Yes          Yes             Yes   \n",
              "\n",
              "  partial paresis muscle stiffness Alopecia Obesity     class  \n",
              "0              No              Yes      Yes     Yes  Positive  \n",
              "1             Yes               No      Yes      No  Positive  \n",
              "2              No              Yes      Yes      No  Positive  \n",
              "3              No               No       No      No  Positive  \n",
              "4             Yes              Yes      Yes     Yes  Positive  "
            ],
            "text/html": [
              "\n",
              "  <div id=\"df-05f00c0e-c72f-41e4-8420-1852a9acc142\" class=\"colab-df-container\">\n",
              "    <div>\n",
              "<style scoped>\n",
              "    .dataframe tbody tr th:only-of-type {\n",
              "        vertical-align: middle;\n",
              "    }\n",
              "\n",
              "    .dataframe tbody tr th {\n",
              "        vertical-align: top;\n",
              "    }\n",
              "\n",
              "    .dataframe thead th {\n",
              "        text-align: right;\n",
              "    }\n",
              "</style>\n",
              "<table border=\"1\" class=\"dataframe\">\n",
              "  <thead>\n",
              "    <tr style=\"text-align: right;\">\n",
              "      <th></th>\n",
              "      <th>Age</th>\n",
              "      <th>Gender</th>\n",
              "      <th>Polyuria</th>\n",
              "      <th>Polydipsia</th>\n",
              "      <th>sudden weight loss</th>\n",
              "      <th>weakness</th>\n",
              "      <th>Polyphagia</th>\n",
              "      <th>Genital thrush</th>\n",
              "      <th>visual blurring</th>\n",
              "      <th>Itching</th>\n",
              "      <th>Irritability</th>\n",
              "      <th>delayed healing</th>\n",
              "      <th>partial paresis</th>\n",
              "      <th>muscle stiffness</th>\n",
              "      <th>Alopecia</th>\n",
              "      <th>Obesity</th>\n",
              "      <th>class</th>\n",
              "    </tr>\n",
              "  </thead>\n",
              "  <tbody>\n",
              "    <tr>\n",
              "      <th>0</th>\n",
              "      <td>40</td>\n",
              "      <td>Male</td>\n",
              "      <td>No</td>\n",
              "      <td>Yes</td>\n",
              "      <td>No</td>\n",
              "      <td>Yes</td>\n",
              "      <td>No</td>\n",
              "      <td>No</td>\n",
              "      <td>No</td>\n",
              "      <td>Yes</td>\n",
              "      <td>No</td>\n",
              "      <td>Yes</td>\n",
              "      <td>No</td>\n",
              "      <td>Yes</td>\n",
              "      <td>Yes</td>\n",
              "      <td>Yes</td>\n",
              "      <td>Positive</td>\n",
              "    </tr>\n",
              "    <tr>\n",
              "      <th>1</th>\n",
              "      <td>58</td>\n",
              "      <td>Male</td>\n",
              "      <td>No</td>\n",
              "      <td>No</td>\n",
              "      <td>No</td>\n",
              "      <td>Yes</td>\n",
              "      <td>No</td>\n",
              "      <td>No</td>\n",
              "      <td>Yes</td>\n",
              "      <td>No</td>\n",
              "      <td>No</td>\n",
              "      <td>No</td>\n",
              "      <td>Yes</td>\n",
              "      <td>No</td>\n",
              "      <td>Yes</td>\n",
              "      <td>No</td>\n",
              "      <td>Positive</td>\n",
              "    </tr>\n",
              "    <tr>\n",
              "      <th>2</th>\n",
              "      <td>41</td>\n",
              "      <td>Male</td>\n",
              "      <td>Yes</td>\n",
              "      <td>No</td>\n",
              "      <td>No</td>\n",
              "      <td>Yes</td>\n",
              "      <td>Yes</td>\n",
              "      <td>No</td>\n",
              "      <td>No</td>\n",
              "      <td>Yes</td>\n",
              "      <td>No</td>\n",
              "      <td>Yes</td>\n",
              "      <td>No</td>\n",
              "      <td>Yes</td>\n",
              "      <td>Yes</td>\n",
              "      <td>No</td>\n",
              "      <td>Positive</td>\n",
              "    </tr>\n",
              "    <tr>\n",
              "      <th>3</th>\n",
              "      <td>45</td>\n",
              "      <td>Male</td>\n",
              "      <td>No</td>\n",
              "      <td>No</td>\n",
              "      <td>Yes</td>\n",
              "      <td>Yes</td>\n",
              "      <td>Yes</td>\n",
              "      <td>Yes</td>\n",
              "      <td>No</td>\n",
              "      <td>Yes</td>\n",
              "      <td>No</td>\n",
              "      <td>Yes</td>\n",
              "      <td>No</td>\n",
              "      <td>No</td>\n",
              "      <td>No</td>\n",
              "      <td>No</td>\n",
              "      <td>Positive</td>\n",
              "    </tr>\n",
              "    <tr>\n",
              "      <th>4</th>\n",
              "      <td>60</td>\n",
              "      <td>Male</td>\n",
              "      <td>Yes</td>\n",
              "      <td>Yes</td>\n",
              "      <td>Yes</td>\n",
              "      <td>Yes</td>\n",
              "      <td>Yes</td>\n",
              "      <td>No</td>\n",
              "      <td>Yes</td>\n",
              "      <td>Yes</td>\n",
              "      <td>Yes</td>\n",
              "      <td>Yes</td>\n",
              "      <td>Yes</td>\n",
              "      <td>Yes</td>\n",
              "      <td>Yes</td>\n",
              "      <td>Yes</td>\n",
              "      <td>Positive</td>\n",
              "    </tr>\n",
              "  </tbody>\n",
              "</table>\n",
              "</div>\n",
              "    <div class=\"colab-df-buttons\">\n",
              "\n",
              "  <div class=\"colab-df-container\">\n",
              "    <button class=\"colab-df-convert\" onclick=\"convertToInteractive('df-05f00c0e-c72f-41e4-8420-1852a9acc142')\"\n",
              "            title=\"Convert this dataframe to an interactive table.\"\n",
              "            style=\"display:none;\">\n",
              "\n",
              "  <svg xmlns=\"http://www.w3.org/2000/svg\" height=\"24px\" viewBox=\"0 -960 960 960\">\n",
              "    <path d=\"M120-120v-720h720v720H120Zm60-500h600v-160H180v160Zm220 220h160v-160H400v160Zm0 220h160v-160H400v160ZM180-400h160v-160H180v160Zm440 0h160v-160H620v160ZM180-180h160v-160H180v160Zm440 0h160v-160H620v160Z\"/>\n",
              "  </svg>\n",
              "    </button>\n",
              "\n",
              "  <style>\n",
              "    .colab-df-container {\n",
              "      display:flex;\n",
              "      gap: 12px;\n",
              "    }\n",
              "\n",
              "    .colab-df-convert {\n",
              "      background-color: #E8F0FE;\n",
              "      border: none;\n",
              "      border-radius: 50%;\n",
              "      cursor: pointer;\n",
              "      display: none;\n",
              "      fill: #1967D2;\n",
              "      height: 32px;\n",
              "      padding: 0 0 0 0;\n",
              "      width: 32px;\n",
              "    }\n",
              "\n",
              "    .colab-df-convert:hover {\n",
              "      background-color: #E2EBFA;\n",
              "      box-shadow: 0px 1px 2px rgba(60, 64, 67, 0.3), 0px 1px 3px 1px rgba(60, 64, 67, 0.15);\n",
              "      fill: #174EA6;\n",
              "    }\n",
              "\n",
              "    .colab-df-buttons div {\n",
              "      margin-bottom: 4px;\n",
              "    }\n",
              "\n",
              "    [theme=dark] .colab-df-convert {\n",
              "      background-color: #3B4455;\n",
              "      fill: #D2E3FC;\n",
              "    }\n",
              "\n",
              "    [theme=dark] .colab-df-convert:hover {\n",
              "      background-color: #434B5C;\n",
              "      box-shadow: 0px 1px 3px 1px rgba(0, 0, 0, 0.15);\n",
              "      filter: drop-shadow(0px 1px 2px rgba(0, 0, 0, 0.3));\n",
              "      fill: #FFFFFF;\n",
              "    }\n",
              "  </style>\n",
              "\n",
              "    <script>\n",
              "      const buttonEl =\n",
              "        document.querySelector('#df-05f00c0e-c72f-41e4-8420-1852a9acc142 button.colab-df-convert');\n",
              "      buttonEl.style.display =\n",
              "        google.colab.kernel.accessAllowed ? 'block' : 'none';\n",
              "\n",
              "      async function convertToInteractive(key) {\n",
              "        const element = document.querySelector('#df-05f00c0e-c72f-41e4-8420-1852a9acc142');\n",
              "        const dataTable =\n",
              "          await google.colab.kernel.invokeFunction('convertToInteractive',\n",
              "                                                    [key], {});\n",
              "        if (!dataTable) return;\n",
              "\n",
              "        const docLinkHtml = 'Like what you see? Visit the ' +\n",
              "          '<a target=\"_blank\" href=https://colab.research.google.com/notebooks/data_table.ipynb>data table notebook</a>'\n",
              "          + ' to learn more about interactive tables.';\n",
              "        element.innerHTML = '';\n",
              "        dataTable['output_type'] = 'display_data';\n",
              "        await google.colab.output.renderOutput(dataTable, element);\n",
              "        const docLink = document.createElement('div');\n",
              "        docLink.innerHTML = docLinkHtml;\n",
              "        element.appendChild(docLink);\n",
              "      }\n",
              "    </script>\n",
              "  </div>\n",
              "\n",
              "\n",
              "<div id=\"df-4b91573d-62da-4e7f-b0c5-0ae6ccd5c942\">\n",
              "  <button class=\"colab-df-quickchart\" onclick=\"quickchart('df-4b91573d-62da-4e7f-b0c5-0ae6ccd5c942')\"\n",
              "            title=\"Suggest charts\"\n",
              "            style=\"display:none;\">\n",
              "\n",
              "<svg xmlns=\"http://www.w3.org/2000/svg\" height=\"24px\"viewBox=\"0 0 24 24\"\n",
              "     width=\"24px\">\n",
              "    <g>\n",
              "        <path d=\"M19 3H5c-1.1 0-2 .9-2 2v14c0 1.1.9 2 2 2h14c1.1 0 2-.9 2-2V5c0-1.1-.9-2-2-2zM9 17H7v-7h2v7zm4 0h-2V7h2v10zm4 0h-2v-4h2v4z\"/>\n",
              "    </g>\n",
              "</svg>\n",
              "  </button>\n",
              "\n",
              "<style>\n",
              "  .colab-df-quickchart {\n",
              "      --bg-color: #E8F0FE;\n",
              "      --fill-color: #1967D2;\n",
              "      --hover-bg-color: #E2EBFA;\n",
              "      --hover-fill-color: #174EA6;\n",
              "      --disabled-fill-color: #AAA;\n",
              "      --disabled-bg-color: #DDD;\n",
              "  }\n",
              "\n",
              "  [theme=dark] .colab-df-quickchart {\n",
              "      --bg-color: #3B4455;\n",
              "      --fill-color: #D2E3FC;\n",
              "      --hover-bg-color: #434B5C;\n",
              "      --hover-fill-color: #FFFFFF;\n",
              "      --disabled-bg-color: #3B4455;\n",
              "      --disabled-fill-color: #666;\n",
              "  }\n",
              "\n",
              "  .colab-df-quickchart {\n",
              "    background-color: var(--bg-color);\n",
              "    border: none;\n",
              "    border-radius: 50%;\n",
              "    cursor: pointer;\n",
              "    display: none;\n",
              "    fill: var(--fill-color);\n",
              "    height: 32px;\n",
              "    padding: 0;\n",
              "    width: 32px;\n",
              "  }\n",
              "\n",
              "  .colab-df-quickchart:hover {\n",
              "    background-color: var(--hover-bg-color);\n",
              "    box-shadow: 0 1px 2px rgba(60, 64, 67, 0.3), 0 1px 3px 1px rgba(60, 64, 67, 0.15);\n",
              "    fill: var(--button-hover-fill-color);\n",
              "  }\n",
              "\n",
              "  .colab-df-quickchart-complete:disabled,\n",
              "  .colab-df-quickchart-complete:disabled:hover {\n",
              "    background-color: var(--disabled-bg-color);\n",
              "    fill: var(--disabled-fill-color);\n",
              "    box-shadow: none;\n",
              "  }\n",
              "\n",
              "  .colab-df-spinner {\n",
              "    border: 2px solid var(--fill-color);\n",
              "    border-color: transparent;\n",
              "    border-bottom-color: var(--fill-color);\n",
              "    animation:\n",
              "      spin 1s steps(1) infinite;\n",
              "  }\n",
              "\n",
              "  @keyframes spin {\n",
              "    0% {\n",
              "      border-color: transparent;\n",
              "      border-bottom-color: var(--fill-color);\n",
              "      border-left-color: var(--fill-color);\n",
              "    }\n",
              "    20% {\n",
              "      border-color: transparent;\n",
              "      border-left-color: var(--fill-color);\n",
              "      border-top-color: var(--fill-color);\n",
              "    }\n",
              "    30% {\n",
              "      border-color: transparent;\n",
              "      border-left-color: var(--fill-color);\n",
              "      border-top-color: var(--fill-color);\n",
              "      border-right-color: var(--fill-color);\n",
              "    }\n",
              "    40% {\n",
              "      border-color: transparent;\n",
              "      border-right-color: var(--fill-color);\n",
              "      border-top-color: var(--fill-color);\n",
              "    }\n",
              "    60% {\n",
              "      border-color: transparent;\n",
              "      border-right-color: var(--fill-color);\n",
              "    }\n",
              "    80% {\n",
              "      border-color: transparent;\n",
              "      border-right-color: var(--fill-color);\n",
              "      border-bottom-color: var(--fill-color);\n",
              "    }\n",
              "    90% {\n",
              "      border-color: transparent;\n",
              "      border-bottom-color: var(--fill-color);\n",
              "    }\n",
              "  }\n",
              "</style>\n",
              "\n",
              "  <script>\n",
              "    async function quickchart(key) {\n",
              "      const quickchartButtonEl =\n",
              "        document.querySelector('#' + key + ' button');\n",
              "      quickchartButtonEl.disabled = true;  // To prevent multiple clicks.\n",
              "      quickchartButtonEl.classList.add('colab-df-spinner');\n",
              "      try {\n",
              "        const charts = await google.colab.kernel.invokeFunction(\n",
              "            'suggestCharts', [key], {});\n",
              "      } catch (error) {\n",
              "        console.error('Error during call to suggestCharts:', error);\n",
              "      }\n",
              "      quickchartButtonEl.classList.remove('colab-df-spinner');\n",
              "      quickchartButtonEl.classList.add('colab-df-quickchart-complete');\n",
              "    }\n",
              "    (() => {\n",
              "      let quickchartButtonEl =\n",
              "        document.querySelector('#df-4b91573d-62da-4e7f-b0c5-0ae6ccd5c942 button');\n",
              "      quickchartButtonEl.style.display =\n",
              "        google.colab.kernel.accessAllowed ? 'block' : 'none';\n",
              "    })();\n",
              "  </script>\n",
              "</div>\n",
              "\n",
              "    </div>\n",
              "  </div>\n"
            ]
          },
          "metadata": {},
          "execution_count": 433
        }
      ],
      "source": [
        "## Reading the dataset\n",
        "\n",
        "import pandas as pd\n",
        "\n",
        "df = pd.read_csv('/content/drive/MyDrive/Datasets/diabetes_risk_prediction_dataset.csv')\n",
        "df.head()"
      ]
    },
    {
      "cell_type": "markdown",
      "metadata": {
        "id": "pgFOAvmUQrdw"
      },
      "source": [
        "#Exploratory Data Analysis"
      ]
    },
    {
      "cell_type": "markdown",
      "metadata": {
        "id": "weWu6zfqRSw-"
      },
      "source": [
        "The first step in our Data analysis will be to determine exactly how many columns have miss entries as well as the number of unique labels in each column. This will determine if we will have to replace any missing entries, and how we will enode each column."
      ]
    },
    {
      "cell_type": "code",
      "execution_count": 434,
      "metadata": {
        "colab": {
          "base_uri": "https://localhost:8080/"
        },
        "id": "bqjnlPQhoPPp",
        "outputId": "4f16a259-0e87-4dd1-d89f-31039605cd0c"
      },
      "outputs": [
        {
          "output_type": "stream",
          "name": "stdout",
          "text": [
            "Age                   0\n",
            "Gender                0\n",
            "Polyuria              0\n",
            "Polydipsia            0\n",
            "sudden weight loss    0\n",
            "weakness              0\n",
            "Polyphagia            0\n",
            "Genital thrush        0\n",
            "visual blurring       0\n",
            "Itching               0\n",
            "Irritability          0\n",
            "delayed healing       0\n",
            "partial paresis       0\n",
            "muscle stiffness      0\n",
            "Alopecia              0\n",
            "Obesity               0\n",
            "class                 0\n",
            "dtype: int64\n"
          ]
        }
      ],
      "source": [
        "# determine the number of missing entries in each column\n",
        "print(len(df) - df.count())"
      ]
    },
    {
      "cell_type": "code",
      "execution_count": 435,
      "metadata": {
        "colab": {
          "base_uri": "https://localhost:8080/"
        },
        "id": "zZDQGXP0Rfik",
        "outputId": "4dee1589-50d7-46b6-f44d-2bc565f60dab"
      },
      "outputs": [
        {
          "output_type": "execute_result",
          "data": {
            "text/plain": [
              "Age                   51\n",
              "Gender                 2\n",
              "Polyuria               2\n",
              "Polydipsia             2\n",
              "sudden weight loss     2\n",
              "weakness               2\n",
              "Polyphagia             2\n",
              "Genital thrush         2\n",
              "visual blurring        2\n",
              "Itching                2\n",
              "Irritability           2\n",
              "delayed healing        2\n",
              "partial paresis        2\n",
              "muscle stiffness       2\n",
              "Alopecia               2\n",
              "Obesity                2\n",
              "class                  2\n",
              "dtype: int64"
            ]
          },
          "metadata": {},
          "execution_count": 435
        }
      ],
      "source": [
        "# find the number of unique values in each column do determine which column can use binary encoding, and in which column\n",
        "# might benefit from one hot encoding\n",
        "\n",
        "df.nunique()"
      ]
    },
    {
      "cell_type": "markdown",
      "metadata": {
        "id": "rqeDRtBtTGQp"
      },
      "source": [
        "Luckily there are no missing entries so we don't have to worry about replacing any values. We also see that most of the columns have data that is binary, in that there are only two possible label. The only exception to this is Age which will have to be normalized, to avoid any numerical instability that arises from the wide range of values in the Age column.\n",
        "\n",
        "One other thing that we will want to look for is the ratio of positive data points to negative datapoints. If there is a significant disproportion, then the training data will have to be modified to try ensure fairness when training the model.\n"
      ]
    },
    {
      "cell_type": "code",
      "execution_count": 436,
      "metadata": {
        "colab": {
          "base_uri": "https://localhost:8080/"
        },
        "id": "uVw1Qq-7rGOm",
        "outputId": "7bc68959-c616-4d73-d227-8997b28f6a24"
      },
      "outputs": [
        {
          "output_type": "stream",
          "name": "stdout",
          "text": [
            "Positive Cases: 320\n",
            "Negative Cases: 200\n"
          ]
        }
      ],
      "source": [
        "from matplotlib import pyplot as plt\n",
        "\n",
        "# determine the distribution of positive to negative classifications\n",
        "p = df['class'].value_counts()['Positive']\n",
        "n = df['class'].value_counts()['Negative']\n",
        "\n",
        "print(f\"Positive Cases: {p}\\nNegative Cases: {n}\")"
      ]
    },
    {
      "cell_type": "code",
      "execution_count": 437,
      "metadata": {
        "colab": {
          "base_uri": "https://localhost:8080/",
          "height": 478
        },
        "id": "VUKJ9ytEa8uh",
        "outputId": "8ca7921c-57c6-406b-d0e6-ad242a2203ce"
      },
      "outputs": [
        {
          "output_type": "stream",
          "name": "stderr",
          "text": [
            "<ipython-input-437-a6a12f4d2219>:2: FutureWarning: The default value of numeric_only in DataFrameGroupBy.sum is deprecated. In a future version, numeric_only will default to False. Either specify numeric_only or select only columns which should be valid for the function.\n",
            "  df.groupby(['class']).sum().plot(kind='pie', subplots=True, autopct='%1.0f%%')\n"
          ]
        },
        {
          "output_type": "execute_result",
          "data": {
            "text/plain": [
              "(-1.25, 1.25, -1.25, 1.25)"
            ]
          },
          "metadata": {},
          "execution_count": 437
        },
        {
          "output_type": "display_data",
          "data": {
            "text/plain": [
              "<Figure size 640x480 with 1 Axes>"
            ],
            "image/png": "[encoded data removed]"
          },
          "metadata": {}
        }
      ],
      "source": [
        "# make the plot\n",
        "df.groupby(['class']).sum().plot(kind='pie', subplots=True, autopct='%1.0f%%')\n",
        "plt.axis('off')"
      ]
    },
    {
      "cell_type": "markdown",
      "metadata": {
        "id": "ZxA_dpL2aleN"
      },
      "source": [
        "As we can see there are signifcantly more positive instances than there are negative ones, this means that we are going to have to find some way to balance the data."
      ]
    },
    {
      "cell_type": "markdown",
      "metadata": {
        "id": "9SQjxocfhQaQ"
      },
      "source": [
        "#Data Modification\n",
        "\n",
        "At this point we will simply be encoding the various columns and normalizing the Age column."
      ]
    },
    {
      "cell_type": "code",
      "execution_count": 438,
      "metadata": {
        "colab": {
          "base_uri": "https://localhost:8080/"
        },
        "id": "XjpxwlUYLO6G",
        "outputId": "2579ffac-a8e8-4dfe-8e57-f723b8ffa2fc"
      },
      "outputs": [
        {
          "output_type": "stream",
          "name": "stdout",
          "text": [
            "{0: 'Negative', 1: 'Positive'}\n"
          ]
        }
      ],
      "source": [
        "# take note of what what Positive and Negative encode to after binary encoding\n",
        "\n",
        "c = df['class'].astype('category')\n",
        "d = dict(enumerate(c.cat.categories))\n",
        "print(d)"
      ]
    },
    {
      "cell_type": "code",
      "execution_count": 439,
      "metadata": {
        "colab": {
          "base_uri": "https://localhost:8080/",
          "height": 206
        },
        "id": "vXyKUUvKh2qy",
        "outputId": "8af2e0ff-1be1-4396-a3d0-23a5413f7766"
      },
      "outputs": [
        {
          "output_type": "execute_result",
          "data": {
            "text/plain": [
              "   Age  Gender  Polyuria  Polydipsia  sudden weight loss  weakness  \\\n",
              "0   40       1         0           1                   0         1   \n",
              "1   58       1         0           0                   0         1   \n",
              "2   41       1         1           0                   0         1   \n",
              "3   45       1         0           0                   1         1   \n",
              "4   60       1         1           1                   1         1   \n",
              "\n",
              "   Polyphagia  Genital thrush  visual blurring  Itching  Irritability  \\\n",
              "0           0               0                0        1             0   \n",
              "1           0               0                1        0             0   \n",
              "2           1               0                0        1             0   \n",
              "3           1               1                0        1             0   \n",
              "4           1               0                1        1             1   \n",
              "\n",
              "   delayed healing  partial paresis  muscle stiffness  Alopecia  Obesity  \\\n",
              "0                1                0                 1         1        1   \n",
              "1                0                1                 0         1        0   \n",
              "2                1                0                 1         1        0   \n",
              "3                1                0                 0         0        0   \n",
              "4                1                1                 1         1        1   \n",
              "\n",
              "   class  \n",
              "0      1  \n",
              "1      1  \n",
              "2      1  \n",
              "3      1  \n",
              "4      1  "
            ],
            "text/html": [
              "\n",
              "  <div id=\"df-13df8354-0767-4977-9e9d-7914c625b0a3\" class=\"colab-df-container\">\n",
              "    <div>\n",
              "<style scoped>\n",
              "    .dataframe tbody tr th:only-of-type {\n",
              "        vertical-align: middle;\n",
              "    }\n",
              "\n",
              "    .dataframe tbody tr th {\n",
              "        vertical-align: top;\n",
              "    }\n",
              "\n",
              "    .dataframe thead th {\n",
              "        text-align: right;\n",
              "    }\n",
              "</style>\n",
              "<table border=\"1\" class=\"dataframe\">\n",
              "  <thead>\n",
              "    <tr style=\"text-align: right;\">\n",
              "      <th></th>\n",
              "      <th>Age</th>\n",
              "      <th>Gender</th>\n",
              "      <th>Polyuria</th>\n",
              "      <th>Polydipsia</th>\n",
              "      <th>sudden weight loss</th>\n",
              "      <th>weakness</th>\n",
              "      <th>Polyphagia</th>\n",
              "      <th>Genital thrush</th>\n",
              "      <th>visual blurring</th>\n",
              "      <th>Itching</th>\n",
              "      <th>Irritability</th>\n",
              "      <th>delayed healing</th>\n",
              "      <th>partial paresis</th>\n",
              "      <th>muscle stiffness</th>\n",
              "      <th>Alopecia</th>\n",
              "      <th>Obesity</th>\n",
              "      <th>class</th>\n",
              "    </tr>\n",
              "  </thead>\n",
              "  <tbody>\n",
              "    <tr>\n",
              "      <th>0</th>\n",
              "      <td>40</td>\n",
              "      <td>1</td>\n",
              "      <td>0</td>\n",
              "      <td>1</td>\n",
              "      <td>0</td>\n",
              "      <td>1</td>\n",
              "      <td>0</td>\n",
              "      <td>0</td>\n",
              "      <td>0</td>\n",
              "      <td>1</td>\n",
              "      <td>0</td>\n",
              "      <td>1</td>\n",
              "      <td>0</td>\n",
              "      <td>1</td>\n",
              "      <td>1</td>\n",
              "      <td>1</td>\n",
              "      <td>1</td>\n",
              "    </tr>\n",
              "    <tr>\n",
              "      <th>1</th>\n",
              "      <td>58</td>\n",
              "      <td>1</td>\n",
              "      <td>0</td>\n",
              "      <td>0</td>\n",
              "      <td>0</td>\n",
              "      <td>1</td>\n",
              "      <td>0</td>\n",
              "      <td>0</td>\n",
              "      <td>1</td>\n",
              "      <td>0</td>\n",
              "      <td>0</td>\n",
              "      <td>0</td>\n",
              "      <td>1</td>\n",
              "      <td>0</td>\n",
              "      <td>1</td>\n",
              "      <td>0</td>\n",
              "      <td>1</td>\n",
              "    </tr>\n",
              "    <tr>\n",
              "      <th>2</th>\n",
              "      <td>41</td>\n",
              "      <td>1</td>\n",
              "      <td>1</td>\n",
              "      <td>0</td>\n",
              "      <td>0</td>\n",
              "      <td>1</td>\n",
              "      <td>1</td>\n",
              "      <td>0</td>\n",
              "      <td>0</td>\n",
              "      <td>1</td>\n",
              "      <td>0</td>\n",
              "      <td>1</td>\n",
              "      <td>0</td>\n",
              "      <td>1</td>\n",
              "      <td>1</td>\n",
              "      <td>0</td>\n",
              "      <td>1</td>\n",
              "    </tr>\n",
              "    <tr>\n",
              "      <th>3</th>\n",
              "      <td>45</td>\n",
              "      <td>1</td>\n",
              "      <td>0</td>\n",
              "      <td>0</td>\n",
              "      <td>1</td>\n",
              "      <td>1</td>\n",
              "      <td>1</td>\n",
              "      <td>1</td>\n",
              "      <td>0</td>\n",
              "      <td>1</td>\n",
              "      <td>0</td>\n",
              "      <td>1</td>\n",
              "      <td>0</td>\n",
              "      <td>0</td>\n",
              "      <td>0</td>\n",
              "      <td>0</td>\n",
              "      <td>1</td>\n",
              "    </tr>\n",
              "    <tr>\n",
              "      <th>4</th>\n",
              "      <td>60</td>\n",
              "      <td>1</td>\n",
              "      <td>1</td>\n",
              "      <td>1</td>\n",
              "      <td>1</td>\n",
              "      <td>1</td>\n",
              "      <td>1</td>\n",
              "      <td>0</td>\n",
              "      <td>1</td>\n",
              "      <td>1</td>\n",
              "      <td>1</td>\n",
              "      <td>1</td>\n",
              "      <td>1</td>\n",
              "      <td>1</td>\n",
              "      <td>1</td>\n",
              "      <td>1</td>\n",
              "      <td>1</td>\n",
              "    </tr>\n",
              "  </tbody>\n",
              "</table>\n",
              "</div>\n",
              "    <div class=\"colab-df-buttons\">\n",
              "\n",
              "  <div class=\"colab-df-container\">\n",
              "    <button class=\"colab-df-convert\" onclick=\"convertToInteractive('df-13df8354-0767-4977-9e9d-7914c625b0a3')\"\n",
              "            title=\"Convert this dataframe to an interactive table.\"\n",
              "            style=\"display:none;\">\n",
              "\n",
              "  <svg xmlns=\"http://www.w3.org/2000/svg\" height=\"24px\" viewBox=\"0 -960 960 960\">\n",
              "    <path d=\"M120-120v-720h720v720H120Zm60-500h600v-160H180v160Zm220 220h160v-160H400v160Zm0 220h160v-160H400v160ZM180-400h160v-160H180v160Zm440 0h160v-160H620v160ZM180-180h160v-160H180v160Zm440 0h160v-160H620v160Z\"/>\n",
              "  </svg>\n",
              "    </button>\n",
              "\n",
              "  <style>\n",
              "    .colab-df-container {\n",
              "      display:flex;\n",
              "      gap: 12px;\n",
              "    }\n",
              "\n",
              "    .colab-df-convert {\n",
              "      background-color: #E8F0FE;\n",
              "      border: none;\n",
              "      border-radius: 50%;\n",
              "      cursor: pointer;\n",
              "      display: none;\n",
              "      fill: #1967D2;\n",
              "      height: 32px;\n",
              "      padding: 0 0 0 0;\n",
              "      width: 32px;\n",
              "    }\n",
              "\n",
              "    .colab-df-convert:hover {\n",
              "      background-color: #E2EBFA;\n",
              "      box-shadow: 0px 1px 2px rgba(60, 64, 67, 0.3), 0px 1px 3px 1px rgba(60, 64, 67, 0.15);\n",
              "      fill: #174EA6;\n",
              "    }\n",
              "\n",
              "    .colab-df-buttons div {\n",
              "      margin-bottom: 4px;\n",
              "    }\n",
              "\n",
              "    [theme=dark] .colab-df-convert {\n",
              "      background-color: #3B4455;\n",
              "      fill: #D2E3FC;\n",
              "    }\n",
              "\n",
              "    [theme=dark] .colab-df-convert:hover {\n",
              "      background-color: #434B5C;\n",
              "      box-shadow: 0px 1px 3px 1px rgba(0, 0, 0, 0.15);\n",
              "      filter: drop-shadow(0px 1px 2px rgba(0, 0, 0, 0.3));\n",
              "      fill: #FFFFFF;\n",
              "    }\n",
              "  </style>\n",
              "\n",
              "    <script>\n",
              "      const buttonEl =\n",
              "        document.querySelector('#df-13df8354-0767-4977-9e9d-7914c625b0a3 button.colab-df-convert');\n",
              "      buttonEl.style.display =\n",
              "        google.colab.kernel.accessAllowed ? 'block' : 'none';\n",
              "\n",
              "      async function convertToInteractive(key) {\n",
              "        const element = document.querySelector('#df-13df8354-0767-4977-9e9d-7914c625b0a3');\n",
              "        const dataTable =\n",
              "          await google.colab.kernel.invokeFunction('convertToInteractive',\n",
              "                                                    [key], {});\n",
              "        if (!dataTable) return;\n",
              "\n",
              "        const docLinkHtml = 'Like what you see? Visit the ' +\n",
              "          '<a target=\"_blank\" href=https://colab.research.google.com/notebooks/data_table.ipynb>data table notebook</a>'\n",
              "          + ' to learn more about interactive tables.';\n",
              "        element.innerHTML = '';\n",
              "        dataTable['output_type'] = 'display_data';\n",
              "        await google.colab.output.renderOutput(dataTable, element);\n",
              "        const docLink = document.createElement('div');\n",
              "        docLink.innerHTML = docLinkHtml;\n",
              "        element.appendChild(docLink);\n",
              "      }\n",
              "    </script>\n",
              "  </div>\n",
              "\n",
              "\n",
              "<div id=\"df-38b60dd9-ffe1-4da9-89e8-849ce5d49991\">\n",
              "  <button class=\"colab-df-quickchart\" onclick=\"quickchart('df-38b60dd9-ffe1-4da9-89e8-849ce5d49991')\"\n",
              "            title=\"Suggest charts\"\n",
              "            style=\"display:none;\">\n",
              "\n",
              "<svg xmlns=\"http://www.w3.org/2000/svg\" height=\"24px\"viewBox=\"0 0 24 24\"\n",
              "     width=\"24px\">\n",
              "    <g>\n",
              "        <path d=\"M19 3H5c-1.1 0-2 .9-2 2v14c0 1.1.9 2 2 2h14c1.1 0 2-.9 2-2V5c0-1.1-.9-2-2-2zM9 17H7v-7h2v7zm4 0h-2V7h2v10zm4 0h-2v-4h2v4z\"/>\n",
              "    </g>\n",
              "</svg>\n",
              "  </button>\n",
              "\n",
              "<style>\n",
              "  .colab-df-quickchart {\n",
              "      --bg-color: #E8F0FE;\n",
              "      --fill-color: #1967D2;\n",
              "      --hover-bg-color: #E2EBFA;\n",
              "      --hover-fill-color: #174EA6;\n",
              "      --disabled-fill-color: #AAA;\n",
              "      --disabled-bg-color: #DDD;\n",
              "  }\n",
              "\n",
              "  [theme=dark] .colab-df-quickchart {\n",
              "      --bg-color: #3B4455;\n",
              "      --fill-color: #D2E3FC;\n",
              "      --hover-bg-color: #434B5C;\n",
              "      --hover-fill-color: #FFFFFF;\n",
              "      --disabled-bg-color: #3B4455;\n",
              "      --disabled-fill-color: #666;\n",
              "  }\n",
              "\n",
              "  .colab-df-quickchart {\n",
              "    background-color: var(--bg-color);\n",
              "    border: none;\n",
              "    border-radius: 50%;\n",
              "    cursor: pointer;\n",
              "    display: none;\n",
              "    fill: var(--fill-color);\n",
              "    height: 32px;\n",
              "    padding: 0;\n",
              "    width: 32px;\n",
              "  }\n",
              "\n",
              "  .colab-df-quickchart:hover {\n",
              "    background-color: var(--hover-bg-color);\n",
              "    box-shadow: 0 1px 2px rgba(60, 64, 67, 0.3), 0 1px 3px 1px rgba(60, 64, 67, 0.15);\n",
              "    fill: var(--button-hover-fill-color);\n",
              "  }\n",
              "\n",
              "  .colab-df-quickchart-complete:disabled,\n",
              "  .colab-df-quickchart-complete:disabled:hover {\n",
              "    background-color: var(--disabled-bg-color);\n",
              "    fill: var(--disabled-fill-color);\n",
              "    box-shadow: none;\n",
              "  }\n",
              "\n",
              "  .colab-df-spinner {\n",
              "    border: 2px solid var(--fill-color);\n",
              "    border-color: transparent;\n",
              "    border-bottom-color: var(--fill-color);\n",
              "    animation:\n",
              "      spin 1s steps(1) infinite;\n",
              "  }\n",
              "\n",
              "  @keyframes spin {\n",
              "    0% {\n",
              "      border-color: transparent;\n",
              "      border-bottom-color: var(--fill-color);\n",
              "      border-left-color: var(--fill-color);\n",
              "    }\n",
              "    20% {\n",
              "      border-color: transparent;\n",
              "      border-left-color: var(--fill-color);\n",
              "      border-top-color: var(--fill-color);\n",
              "    }\n",
              "    30% {\n",
              "      border-color: transparent;\n",
              "      border-left-color: var(--fill-color);\n",
              "      border-top-color: var(--fill-color);\n",
              "      border-right-color: var(--fill-color);\n",
              "    }\n",
              "    40% {\n",
              "      border-color: transparent;\n",
              "      border-right-color: var(--fill-color);\n",
              "      border-top-color: var(--fill-color);\n",
              "    }\n",
              "    60% {\n",
              "      border-color: transparent;\n",
              "      border-right-color: var(--fill-color);\n",
              "    }\n",
              "    80% {\n",
              "      border-color: transparent;\n",
              "      border-right-color: var(--fill-color);\n",
              "      border-bottom-color: var(--fill-color);\n",
              "    }\n",
              "    90% {\n",
              "      border-color: transparent;\n",
              "      border-bottom-color: var(--fill-color);\n",
              "    }\n",
              "  }\n",
              "</style>\n",
              "\n",
              "  <script>\n",
              "    async function quickchart(key) {\n",
              "      const quickchartButtonEl =\n",
              "        document.querySelector('#' + key + ' button');\n",
              "      quickchartButtonEl.disabled = true;  // To prevent multiple clicks.\n",
              "      quickchartButtonEl.classList.add('colab-df-spinner');\n",
              "      try {\n",
              "        const charts = await google.colab.kernel.invokeFunction(\n",
              "            'suggestCharts', [key], {});\n",
              "      } catch (error) {\n",
              "        console.error('Error during call to suggestCharts:', error);\n",
              "      }\n",
              "      quickchartButtonEl.classList.remove('colab-df-spinner');\n",
              "      quickchartButtonEl.classList.add('colab-df-quickchart-complete');\n",
              "    }\n",
              "    (() => {\n",
              "      let quickchartButtonEl =\n",
              "        document.querySelector('#df-38b60dd9-ffe1-4da9-89e8-849ce5d49991 button');\n",
              "      quickchartButtonEl.style.display =\n",
              "        google.colab.kernel.accessAllowed ? 'block' : 'none';\n",
              "    })();\n",
              "  </script>\n",
              "</div>\n",
              "\n",
              "    </div>\n",
              "  </div>\n"
            ]
          },
          "metadata": {},
          "execution_count": 439
        }
      ],
      "source": [
        "# convert the labels in each column to integer values instead\n",
        "columns = df.columns\n",
        "binary_columns = df.columns[1:] #these are columns with only two unique values in them\n",
        "\n",
        "for column_name in binary_columns:\n",
        "  df[column_name] = df[column_name].astype('category').cat.codes\n",
        "\n",
        "df.head()"
      ]
    },
    {
      "cell_type": "code",
      "execution_count": 440,
      "metadata": {
        "colab": {
          "base_uri": "https://localhost:8080/",
          "height": 206
        },
        "id": "2mU9DR8o0N-x",
        "outputId": "0aae5413-38a6-4040-fe19-1210dec288eb"
      },
      "outputs": [
        {
          "output_type": "execute_result",
          "data": {
            "text/plain": [
              "   Age  Gender  Polyuria  Polydipsia  sudden weight loss  weakness  \\\n",
              "0   35       1         0           0                   1         1   \n",
              "1   36       1         0           0                   0         0   \n",
              "2   32       1         0           0                   0         1   \n",
              "3   25       0         0           0                   0         1   \n",
              "4   39       0         1           1                   1         1   \n",
              "\n",
              "   Polyphagia  Genital thrush  visual blurring  Itching  Irritability  \\\n",
              "0           0               1                0        0             0   \n",
              "1           0               0                0        0             0   \n",
              "2           0               0                0        0             0   \n",
              "3           1               0                1        0             0   \n",
              "4           1               0                0        1             1   \n",
              "\n",
              "   delayed healing  partial paresis  muscle stiffness  Alopecia  Obesity  \\\n",
              "0                0                0                 0         0        0   \n",
              "1                0                0                 0         0        0   \n",
              "2                0                0                 0         0        0   \n",
              "3                0                0                 0         1        0   \n",
              "4                1                1                 0         0        0   \n",
              "\n",
              "   class  \n",
              "0      0  \n",
              "1      0  \n",
              "2      0  \n",
              "3      1  \n",
              "4      1  "
            ],
            "text/html": [
              "\n",
              "  <div id=\"df-c63f4189-b0e0-408a-9149-3969801212e1\" class=\"colab-df-container\">\n",
              "    <div>\n",
              "<style scoped>\n",
              "    .dataframe tbody tr th:only-of-type {\n",
              "        vertical-align: middle;\n",
              "    }\n",
              "\n",
              "    .dataframe tbody tr th {\n",
              "        vertical-align: top;\n",
              "    }\n",
              "\n",
              "    .dataframe thead th {\n",
              "        text-align: right;\n",
              "    }\n",
              "</style>\n",
              "<table border=\"1\" class=\"dataframe\">\n",
              "  <thead>\n",
              "    <tr style=\"text-align: right;\">\n",
              "      <th></th>\n",
              "      <th>Age</th>\n",
              "      <th>Gender</th>\n",
              "      <th>Polyuria</th>\n",
              "      <th>Polydipsia</th>\n",
              "      <th>sudden weight loss</th>\n",
              "      <th>weakness</th>\n",
              "      <th>Polyphagia</th>\n",
              "      <th>Genital thrush</th>\n",
              "      <th>visual blurring</th>\n",
              "      <th>Itching</th>\n",
              "      <th>Irritability</th>\n",
              "      <th>delayed healing</th>\n",
              "      <th>partial paresis</th>\n",
              "      <th>muscle stiffness</th>\n",
              "      <th>Alopecia</th>\n",
              "      <th>Obesity</th>\n",
              "      <th>class</th>\n",
              "    </tr>\n",
              "  </thead>\n",
              "  <tbody>\n",
              "    <tr>\n",
              "      <th>0</th>\n",
              "      <td>35</td>\n",
              "      <td>1</td>\n",
              "      <td>0</td>\n",
              "      <td>0</td>\n",
              "      <td>1</td>\n",
              "      <td>1</td>\n",
              "      <td>0</td>\n",
              "      <td>1</td>\n",
              "      <td>0</td>\n",
              "      <td>0</td>\n",
              "      <td>0</td>\n",
              "      <td>0</td>\n",
              "      <td>0</td>\n",
              "      <td>0</td>\n",
              "      <td>0</td>\n",
              "      <td>0</td>\n",
              "      <td>0</td>\n",
              "    </tr>\n",
              "    <tr>\n",
              "      <th>1</th>\n",
              "      <td>36</td>\n",
              "      <td>1</td>\n",
              "      <td>0</td>\n",
              "      <td>0</td>\n",
              "      <td>0</td>\n",
              "      <td>0</td>\n",
              "      <td>0</td>\n",
              "      <td>0</td>\n",
              "      <td>0</td>\n",
              "      <td>0</td>\n",
              "      <td>0</td>\n",
              "      <td>0</td>\n",
              "      <td>0</td>\n",
              "      <td>0</td>\n",
              "      <td>0</td>\n",
              "      <td>0</td>\n",
              "      <td>0</td>\n",
              "    </tr>\n",
              "    <tr>\n",
              "      <th>2</th>\n",
              "      <td>32</td>\n",
              "      <td>1</td>\n",
              "      <td>0</td>\n",
              "      <td>0</td>\n",
              "      <td>0</td>\n",
              "      <td>1</td>\n",
              "      <td>0</td>\n",
              "      <td>0</td>\n",
              "      <td>0</td>\n",
              "      <td>0</td>\n",
              "      <td>0</td>\n",
              "      <td>0</td>\n",
              "      <td>0</td>\n",
              "      <td>0</td>\n",
              "      <td>0</td>\n",
              "      <td>0</td>\n",
              "      <td>0</td>\n",
              "    </tr>\n",
              "    <tr>\n",
              "      <th>3</th>\n",
              "      <td>25</td>\n",
              "      <td>0</td>\n",
              "      <td>0</td>\n",
              "      <td>0</td>\n",
              "      <td>0</td>\n",
              "      <td>1</td>\n",
              "      <td>1</td>\n",
              "      <td>0</td>\n",
              "      <td>1</td>\n",
              "      <td>0</td>\n",
              "      <td>0</td>\n",
              "      <td>0</td>\n",
              "      <td>0</td>\n",
              "      <td>0</td>\n",
              "      <td>1</td>\n",
              "      <td>0</td>\n",
              "      <td>1</td>\n",
              "    </tr>\n",
              "    <tr>\n",
              "      <th>4</th>\n",
              "      <td>39</td>\n",
              "      <td>0</td>\n",
              "      <td>1</td>\n",
              "      <td>1</td>\n",
              "      <td>1</td>\n",
              "      <td>1</td>\n",
              "      <td>1</td>\n",
              "      <td>0</td>\n",
              "      <td>0</td>\n",
              "      <td>1</td>\n",
              "      <td>1</td>\n",
              "      <td>1</td>\n",
              "      <td>1</td>\n",
              "      <td>0</td>\n",
              "      <td>0</td>\n",
              "      <td>0</td>\n",
              "      <td>1</td>\n",
              "    </tr>\n",
              "  </tbody>\n",
              "</table>\n",
              "</div>\n",
              "    <div class=\"colab-df-buttons\">\n",
              "\n",
              "  <div class=\"colab-df-container\">\n",
              "    <button class=\"colab-df-convert\" onclick=\"convertToInteractive('df-c63f4189-b0e0-408a-9149-3969801212e1')\"\n",
              "            title=\"Convert this dataframe to an interactive table.\"\n",
              "            style=\"display:none;\">\n",
              "\n",
              "  <svg xmlns=\"http://www.w3.org/2000/svg\" height=\"24px\" viewBox=\"0 -960 960 960\">\n",
              "    <path d=\"M120-120v-720h720v720H120Zm60-500h600v-160H180v160Zm220 220h160v-160H400v160Zm0 220h160v-160H400v160ZM180-400h160v-160H180v160Zm440 0h160v-160H620v160ZM180-180h160v-160H180v160Zm440 0h160v-160H620v160Z\"/>\n",
              "  </svg>\n",
              "    </button>\n",
              "\n",
              "  <style>\n",
              "    .colab-df-container {\n",
              "      display:flex;\n",
              "      gap: 12px;\n",
              "    }\n",
              "\n",
              "    .colab-df-convert {\n",
              "      background-color: #E8F0FE;\n",
              "      border: none;\n",
              "      border-radius: 50%;\n",
              "      cursor: pointer;\n",
              "      display: none;\n",
              "      fill: #1967D2;\n",
              "      height: 32px;\n",
              "      padding: 0 0 0 0;\n",
              "      width: 32px;\n",
              "    }\n",
              "\n",
              "    .colab-df-convert:hover {\n",
              "      background-color: #E2EBFA;\n",
              "      box-shadow: 0px 1px 2px rgba(60, 64, 67, 0.3), 0px 1px 3px 1px rgba(60, 64, 67, 0.15);\n",
              "      fill: #174EA6;\n",
              "    }\n",
              "\n",
              "    .colab-df-buttons div {\n",
              "      margin-bottom: 4px;\n",
              "    }\n",
              "\n",
              "    [theme=dark] .colab-df-convert {\n",
              "      background-color: #3B4455;\n",
              "      fill: #D2E3FC;\n",
              "    }\n",
              "\n",
              "    [theme=dark] .colab-df-convert:hover {\n",
              "      background-color: #434B5C;\n",
              "      box-shadow: 0px 1px 3px 1px rgba(0, 0, 0, 0.15);\n",
              "      filter: drop-shadow(0px 1px 2px rgba(0, 0, 0, 0.3));\n",
              "      fill: #FFFFFF;\n",
              "    }\n",
              "  </style>\n",
              "\n",
              "    <script>\n",
              "      const buttonEl =\n",
              "        document.querySelector('#df-c63f4189-b0e0-408a-9149-3969801212e1 button.colab-df-convert');\n",
              "      buttonEl.style.display =\n",
              "        google.colab.kernel.accessAllowed ? 'block' : 'none';\n",
              "\n",
              "      async function convertToInteractive(key) {\n",
              "        const element = document.querySelector('#df-c63f4189-b0e0-408a-9149-3969801212e1');\n",
              "        const dataTable =\n",
              "          await google.colab.kernel.invokeFunction('convertToInteractive',\n",
              "                                                    [key], {});\n",
              "        if (!dataTable) return;\n",
              "\n",
              "        const docLinkHtml = 'Like what you see? Visit the ' +\n",
              "          '<a target=\"_blank\" href=https://colab.research.google.com/notebooks/data_table.ipynb>data table notebook</a>'\n",
              "          + ' to learn more about interactive tables.';\n",
              "        element.innerHTML = '';\n",
              "        dataTable['output_type'] = 'display_data';\n",
              "        await google.colab.output.renderOutput(dataTable, element);\n",
              "        const docLink = document.createElement('div');\n",
              "        docLink.innerHTML = docLinkHtml;\n",
              "        element.appendChild(docLink);\n",
              "      }\n",
              "    </script>\n",
              "  </div>\n",
              "\n",
              "\n",
              "<div id=\"df-a9c72b43-b28a-475f-80b4-45e822030a52\">\n",
              "  <button class=\"colab-df-quickchart\" onclick=\"quickchart('df-a9c72b43-b28a-475f-80b4-45e822030a52')\"\n",
              "            title=\"Suggest charts\"\n",
              "            style=\"display:none;\">\n",
              "\n",
              "<svg xmlns=\"http://www.w3.org/2000/svg\" height=\"24px\"viewBox=\"0 0 24 24\"\n",
              "     width=\"24px\">\n",
              "    <g>\n",
              "        <path d=\"M19 3H5c-1.1 0-2 .9-2 2v14c0 1.1.9 2 2 2h14c1.1 0 2-.9 2-2V5c0-1.1-.9-2-2-2zM9 17H7v-7h2v7zm4 0h-2V7h2v10zm4 0h-2v-4h2v4z\"/>\n",
              "    </g>\n",
              "</svg>\n",
              "  </button>\n",
              "\n",
              "<style>\n",
              "  .colab-df-quickchart {\n",
              "      --bg-color: #E8F0FE;\n",
              "      --fill-color: #1967D2;\n",
              "      --hover-bg-color: #E2EBFA;\n",
              "      --hover-fill-color: #174EA6;\n",
              "      --disabled-fill-color: #AAA;\n",
              "      --disabled-bg-color: #DDD;\n",
              "  }\n",
              "\n",
              "  [theme=dark] .colab-df-quickchart {\n",
              "      --bg-color: #3B4455;\n",
              "      --fill-color: #D2E3FC;\n",
              "      --hover-bg-color: #434B5C;\n",
              "      --hover-fill-color: #FFFFFF;\n",
              "      --disabled-bg-color: #3B4455;\n",
              "      --disabled-fill-color: #666;\n",
              "  }\n",
              "\n",
              "  .colab-df-quickchart {\n",
              "    background-color: var(--bg-color);\n",
              "    border: none;\n",
              "    border-radius: 50%;\n",
              "    cursor: pointer;\n",
              "    display: none;\n",
              "    fill: var(--fill-color);\n",
              "    height: 32px;\n",
              "    padding: 0;\n",
              "    width: 32px;\n",
              "  }\n",
              "\n",
              "  .colab-df-quickchart:hover {\n",
              "    background-color: var(--hover-bg-color);\n",
              "    box-shadow: 0 1px 2px rgba(60, 64, 67, 0.3), 0 1px 3px 1px rgba(60, 64, 67, 0.15);\n",
              "    fill: var(--button-hover-fill-color);\n",
              "  }\n",
              "\n",
              "  .colab-df-quickchart-complete:disabled,\n",
              "  .colab-df-quickchart-complete:disabled:hover {\n",
              "    background-color: var(--disabled-bg-color);\n",
              "    fill: var(--disabled-fill-color);\n",
              "    box-shadow: none;\n",
              "  }\n",
              "\n",
              "  .colab-df-spinner {\n",
              "    border: 2px solid var(--fill-color);\n",
              "    border-color: transparent;\n",
              "    border-bottom-color: var(--fill-color);\n",
              "    animation:\n",
              "      spin 1s steps(1) infinite;\n",
              "  }\n",
              "\n",
              "  @keyframes spin {\n",
              "    0% {\n",
              "      border-color: transparent;\n",
              "      border-bottom-color: var(--fill-color);\n",
              "      border-left-color: var(--fill-color);\n",
              "    }\n",
              "    20% {\n",
              "      border-color: transparent;\n",
              "      border-left-color: var(--fill-color);\n",
              "      border-top-color: var(--fill-color);\n",
              "    }\n",
              "    30% {\n",
              "      border-color: transparent;\n",
              "      border-left-color: var(--fill-color);\n",
              "      border-top-color: var(--fill-color);\n",
              "      border-right-color: var(--fill-color);\n",
              "    }\n",
              "    40% {\n",
              "      border-color: transparent;\n",
              "      border-right-color: var(--fill-color);\n",
              "      border-top-color: var(--fill-color);\n",
              "    }\n",
              "    60% {\n",
              "      border-color: transparent;\n",
              "      border-right-color: var(--fill-color);\n",
              "    }\n",
              "    80% {\n",
              "      border-color: transparent;\n",
              "      border-right-color: var(--fill-color);\n",
              "      border-bottom-color: var(--fill-color);\n",
              "    }\n",
              "    90% {\n",
              "      border-color: transparent;\n",
              "      border-bottom-color: var(--fill-color);\n",
              "    }\n",
              "  }\n",
              "</style>\n",
              "\n",
              "  <script>\n",
              "    async function quickchart(key) {\n",
              "      const quickchartButtonEl =\n",
              "        document.querySelector('#' + key + ' button');\n",
              "      quickchartButtonEl.disabled = true;  // To prevent multiple clicks.\n",
              "      quickchartButtonEl.classList.add('colab-df-spinner');\n",
              "      try {\n",
              "        const charts = await google.colab.kernel.invokeFunction(\n",
              "            'suggestCharts', [key], {});\n",
              "      } catch (error) {\n",
              "        console.error('Error during call to suggestCharts:', error);\n",
              "      }\n",
              "      quickchartButtonEl.classList.remove('colab-df-spinner');\n",
              "      quickchartButtonEl.classList.add('colab-df-quickchart-complete');\n",
              "    }\n",
              "    (() => {\n",
              "      let quickchartButtonEl =\n",
              "        document.querySelector('#df-a9c72b43-b28a-475f-80b4-45e822030a52 button');\n",
              "      quickchartButtonEl.style.display =\n",
              "        google.colab.kernel.accessAllowed ? 'block' : 'none';\n",
              "    })();\n",
              "  </script>\n",
              "</div>\n",
              "\n",
              "    </div>\n",
              "  </div>\n"
            ]
          },
          "metadata": {},
          "execution_count": 440
        }
      ],
      "source": [
        "# shuffle the dataset just to ensure a more or less even distribution of positive to negative cases\n",
        "df = df.sample(frac = 1).reset_index(drop=True) #reset_index mainintains a sequential index ordering\n",
        "df.head()"
      ]
    },
    {
      "cell_type": "code",
      "execution_count": 441,
      "metadata": {
        "id": "1vB-LqF_tA-h"
      },
      "outputs": [],
      "source": [
        "#mean normalize the age column\n",
        "age_mean = df['Age'].mean()\n",
        "age_std_dev = df['Age'].std()\n",
        "\n",
        "# df['Age'] = (df['Age'] - age_mean) / age_std_dev\n",
        "# df.head()"
      ]
    },
    {
      "cell_type": "markdown",
      "source": [
        "# NOTES\n",
        "\n",
        "While under normal circumstances it would be appropriate to normalize the data in the age column, after testing the aglorithms with the normalized vs un-normalized data, I have found that the algorithms preforms better with no normalization in the optimized settings, with only minor improvments in the standard gradient descent. It is for this reason I have retroactively commented out the code responsible for normalizing the Age column."
      ],
      "metadata": {
        "id": "jaIKmczWby1p"
      }
    },
    {
      "cell_type": "markdown",
      "metadata": {
        "id": "pmdmf7wzQhbf"
      },
      "source": [
        "#Seperating Testing and Training Data"
      ]
    },
    {
      "cell_type": "markdown",
      "source": [
        "In this stage we will seperate the training data from the testing data. As we mentioned before there is an inabalance in the number of postive and negative instances in the dataset. This means that we will need to apply SMOTE (synthetic Minority over-sampling technique) to synthasize datapoints in the training data, to correct this inbalance."
      ],
      "metadata": {
        "id": "25iU5q-VdgPR"
      }
    },
    {
      "cell_type": "code",
      "execution_count": 442,
      "metadata": {
        "id": "n0jyL-9nVqy-"
      },
      "outputs": [],
      "source": [
        "ratio = 0.8 #the proportion of the full dataset dedicated\n",
        "rows = len(df)  #total number of rows in the full dataset\n",
        "\n",
        "training_size = int(rows * ratio)\n",
        "\n",
        "# Split data into testing and training data\n",
        "training_data = df[0:training_size]\n",
        "testing_data = df[training_size:]"
      ]
    },
    {
      "cell_type": "code",
      "execution_count": 443,
      "metadata": {
        "id": "oC60CFTNwlaU"
      },
      "outputs": [],
      "source": [
        "from imblearn.over_sampling import SMOTE\n",
        "\n",
        "#use smote (synthetic Minority over-sampling technique) to balance the training dataset\n",
        "#smote will icnrease the number of instances to balance based on class\n",
        "\n",
        "X_smote = training_data.drop('class', axis=1)\n",
        "y_smote = training_data['class']\n",
        "\n",
        "smote = SMOTE(sampling_strategy='auto', random_state=17) #random_state is just a seed\n",
        "X_smote, y_smote = smote.fit_resample(X_smote, y_smote)\n",
        "\n",
        "training_data = pd.concat([pd.DataFrame(X_smote, columns=X_smote.columns), pd.Series(y_smote, name='class')], axis=1)"
      ]
    },
    {
      "cell_type": "code",
      "execution_count": 444,
      "metadata": {
        "colab": {
          "base_uri": "https://localhost:8080/"
        },
        "id": "aucv_8Oky2et",
        "outputId": "3af9198e-3724-4217-dd3d-6f05290b74df"
      },
      "outputs": [
        {
          "output_type": "stream",
          "name": "stdout",
          "text": [
            "Positive Cases: 255\n",
            "Negative Cases: 255\n"
          ]
        }
      ],
      "source": [
        "#check the balance now between positive and negative instances\n",
        "\n",
        "# determine the distribution of positive to negative classifications\n",
        "p = training_data['class'].value_counts()[1]\n",
        "n = training_data['class'].value_counts()[0]\n",
        "\n",
        "print(f\"Positive Cases: {p}\\nNegative Cases: {n}\")"
      ]
    },
    {
      "cell_type": "code",
      "execution_count": 445,
      "metadata": {
        "colab": {
          "base_uri": "https://localhost:8080/"
        },
        "id": "fbdjUaXdW7Zh",
        "outputId": "0b6a52b4-dd40-458a-90ac-a2c04720525e"
      },
      "outputs": [
        {
          "output_type": "stream",
          "name": "stdout",
          "text": [
            "X_train Shape: torch.Size([520, 16]),  y_train shape torch.Size([520, 1])\n",
            "X_test Shape: torch.Size([520, 16]),  y_test shape torch.Size([520, 1])\n"
          ]
        }
      ],
      "source": [
        "# convert the training and testing data into tensors\n",
        "\n",
        "import math\n",
        "import numpy as np\n",
        "import torch\n",
        "\n",
        "X_train, y_train = torch.FloatTensor(df.drop(columns=['class']).values), torch.FloatTensor(df['class'].values).reshape(-1, 1)\n",
        "X_test, y_test = torch.FloatTensor(df.drop(columns=['class']).values), torch.FloatTensor(df['class'].values).reshape(-1, 1)\n",
        "\n",
        "print(f\"X_train Shape: {X_train.shape},  y_train shape {y_train.shape}\")\n",
        "print(f\"X_test Shape: {X_test.shape},  y_test shape {y_test.shape}\")"
      ]
    },
    {
      "cell_type": "code",
      "source": [
        "import time"
      ],
      "metadata": {
        "id": "JWOK8rVpKnfI"
      },
      "execution_count": 446,
      "outputs": []
    },
    {
      "cell_type": "code",
      "execution_count": 447,
      "metadata": {
        "id": "I4oZTkOhg-qj"
      },
      "outputs": [],
      "source": [
        "def sigmoid(p):\n",
        "  return 1/(1+torch.exp(-p))"
      ]
    },
    {
      "cell_type": "code",
      "execution_count": 448,
      "metadata": {
        "id": "hr-dHk51R3O4"
      },
      "outputs": [],
      "source": [
        "def batchGradientDescent(X, y, w, b, theta, eta = 0.01):\n",
        "  start_time = time.time()\n",
        "\n",
        "  #initialize the weight and bias gradients\n",
        "  w_grad = torch.rand(16, 1)\n",
        "  b_grad = torch.rand(1, 1)\n",
        "\n",
        "  #initialize the gradient to ones using\n",
        "  grad = torch.cat([w_grad, b_grad], dim=0)\n",
        "  grad_norm = float('inf') #initalize as inf for upper bound\n",
        "\n",
        "  while(grad_norm > theta): #calculate the euclidean norm to determine if stopping criteria has been met\n",
        "    # print(grad.norm(dim=0, p=2))\n",
        "\n",
        "    # calculate the predictions\n",
        "    y_preds = sigmoid(X @ w + b) #implement the sigmoid function\n",
        "\n",
        "    # calculate the loss based on the predictions\n",
        "    loss = -torch.mean((y * torch.log(y) + (1 - y_preds) * torch.log(1-y_preds)))\n",
        "\n",
        "    #print(\"\\rLOSS: {:.2f}\".format(loss), end='', flush=True)\n",
        "\n",
        "    # calculate the gradient of the loss function\n",
        "    w_grad = X_train.T @ (y_preds - y_train)\n",
        "    b_grad = torch.mean(y_preds - y_train)\n",
        "\n",
        "    #update the gradient and recompute the Euclidean norm\n",
        "    grad = torch.cat([w_grad, b_grad.reshape(1, 1)], dim = 0)\n",
        "    grad_norm = grad.norm(dim=0, p=2)[0]\n",
        "\n",
        "    print(\"\\rGRADIENT NORM: {:.2f}\".format(grad_norm), end='', flush=True)\n",
        "\n",
        "    # update the weights and biases based on the learning rate and gradient\n",
        "    w -= eta * w_grad\n",
        "    b -= eta * b_grad\n",
        "\n",
        "  end_time = time.time()\n",
        "  print(f\"\\nTIME: {end_time-start_time} sec\")\n",
        "\n",
        "  #print(\"\\rFINAL LOSS: {:.2f}\".format(loss))\n",
        "  #print(\"\\rGRADIENT NORM: {:.2f}\".format(grad_norm))\n",
        "\n",
        "  #look into smote"
      ]
    },
    {
      "cell_type": "code",
      "execution_count": 449,
      "metadata": {
        "id": "MVHfFS3H630q"
      },
      "outputs": [],
      "source": [
        "def minibatchGradientDescent(X, y, w, b, num_epochs = 10, batch_size = 32, eta = 0.01):\n",
        "  start_time = time.time()\n",
        "\n",
        "  #initialize the weight and bias gradients\n",
        "  w_grad = torch.rand(16, 1)\n",
        "  b_grad = torch.rand(1, 1)\n",
        "\n",
        "  #initialize the gradient to ones using\n",
        "  grad = torch.cat([w_grad, b_grad], dim=0)\n",
        "  grad_norm = float('inf') #initalize as inf for upper bound\n",
        "\n",
        "  for epoch_idx in range(num_epochs):\n",
        "    epoch = X[torch.randperm(X.size(0))] #generate a random permutation of X rows\n",
        "    total_loss = 0\n",
        "\n",
        "    #print(\"EPOCH {}\".format(epoch_idx + 1))\n",
        "    for batch_idx in range(batch_size, X.size(0), batch_size):\n",
        "      #generate the minibatch from the epoch\n",
        "      minibatch = epoch[[batch_idx - batch_size, batch_idx]]\n",
        "\n",
        "      #calculate the predictions\n",
        "      y_preds = sigmoid(X @ w + b)\n",
        "\n",
        "      #clamp to avoid 0 and 1 in the prediction set\n",
        "      clamped_y_preds = torch.clamp(y_preds, 0.00001, 0.99999)\n",
        "\n",
        "      # calculate the loss based on the predictions\n",
        "      loss = -torch.mean((y * torch.log(clamped_y_preds) + (1 - y) * torch.log(1-clamped_y_preds)))\n",
        "      total_loss += loss\n",
        "\n",
        "      #print(\"\\tLOSS: {:.2f}\".format(loss))\n",
        "\n",
        "      # calculate the gradient of the loss function\n",
        "      w_grad = X_train.T @ (y_preds - y_train)\n",
        "      b_grad = torch.mean(y_preds - y_train)\n",
        "\n",
        "      #update the gradient and recompute the Euclidean norm\n",
        "      grad = torch.cat([w_grad, b_grad.reshape(1, 1)], dim = 0)\n",
        "      grad_norm = grad.norm(dim=0, p=2)[0]\n",
        "\n",
        "      #print(\"\\rGRADIENT NORM: {:.2f}\".format(grad_norm), end='', flush=True)\n",
        "\n",
        "      # update the weights and biases based on the learning rate and gradient\n",
        "      w -= eta * w_grad\n",
        "      b -= eta * b_grad\n",
        "\n",
        "  end_time = time.time()\n",
        "  print(f\"TIME: {end_time-start_time} sec\")\n",
        "\n",
        "  #print(\"\\n\\tAVG. LOSS: {:.2f}\".format(total_loss/(X.size(0) // batch_size))) #print average loss of the epoch\n",
        "  #print(\"\\rGRADIENT NORM: {:.2f}\".format(grad_norm))"
      ]
    },
    {
      "cell_type": "code",
      "execution_count": 450,
      "metadata": {
        "id": "XcKDu1xkwfTK"
      },
      "outputs": [],
      "source": [
        "def stochasticGradientDescent(X, y, w, b, num_epochs = 10, eta = 0.01):\n",
        "  start_time = time.time()\n",
        "\n",
        "  #initialize the weight and bias gradients\n",
        "  w_grad = torch.rand(16, 1)\n",
        "  b_grad = torch.rand(1, 1)\n",
        "\n",
        "  # initialize the gradient to ones using\n",
        "  grad = torch.cat([w_grad, b_grad], dim=0)\n",
        "  grad_norm = float('inf') #initalize as inf for upper bound\n",
        "\n",
        "  for epoch_idx in range(num_epochs):\n",
        "    epoch = X[torch.randperm(X.size(0))] #generate a random permutation of X rows\n",
        "    total_loss = 0\n",
        "\n",
        "    #print(\"EPOCH {}\".format(epoch_idx + 1))\n",
        "    for instance in epoch:\n",
        "      # calculate the predictions\n",
        "      y_preds = sigmoid(instance @ w + b)\n",
        "\n",
        "      #clamp to avoid 0 and 1 in the prediction set\n",
        "      clamped_y_preds = torch.clamp(y_preds, 0.00001, 0.99999)\n",
        "\n",
        "      # calculate the loss based on the predictions\n",
        "      loss = -torch.mean((y * torch.log(clamped_y_preds) + (1 - y) * torch.log(1-clamped_y_preds)))\n",
        "      total_loss += loss\n",
        "\n",
        "      #print(\"\\rLOSS: {:.2f}\".format(loss), end = '', flush = True)\n",
        "\n",
        "      # calculate the gradient of the loss function\n",
        "      w_grad = X_train.T @ (y_preds - y_train)\n",
        "      b_grad = torch.mean(y_preds - y_train)\n",
        "\n",
        "      #update the gradient and recompute the Euclidean norm\n",
        "      grad = torch.cat([w_grad, b_grad.reshape(1, 1)], dim = 0)\n",
        "      grad_norm = grad.norm(dim=0, p=2)[0]\n",
        "\n",
        "      #print(\"\\rGRADIENT NORM: {:.2f}\".format(grad_norm), end='', flush=True)\n",
        "\n",
        "      # update the weights and biases based on the learning rate and gradient\n",
        "      w -= eta * w_grad\n",
        "      b -= eta * b_grad\n",
        "\n",
        "  end_time = time.time()\n",
        "  print(f\"TIME: {end_time-start_time} sec\")\n",
        "\n",
        "  #print(\"\\tAVG. LOSS: {:.2f}\".format(total_loss/X.size(0))) #print average loss of the epoch\n",
        "  #print(\"\\rGRADIENT NORM: {:.2f}\".format(grad_norm), end = '', flush = True)"
      ]
    },
    {
      "cell_type": "code",
      "execution_count": 451,
      "metadata": {
        "id": "TE2Cm5fcQ-lm"
      },
      "outputs": [],
      "source": [
        "#store the number of features\n",
        "num_features = X_train.size(dim=1)\n",
        "\n",
        "#initalize the weights and bias for minibatch gradient descent method\n",
        "batch_weights = torch.rand((num_features, 1))\n",
        "batch_bias = torch.rand(1)\n",
        "\n",
        "#initalize the weights and bias for minibatch gradient descent method\n",
        "minibatch_weights = torch.rand((num_features, 1))\n",
        "minibatch_bias = torch.rand(1)\n",
        "\n",
        "#initalize the weights and bias for stochastic gradient descent method\n",
        "stochastic_weights = torch.rand((num_features, 1))\n",
        "stochastic_bias = torch.rand(1)"
      ]
    },
    {
      "cell_type": "code",
      "execution_count": 452,
      "metadata": {
        "colab": {
          "base_uri": "https://localhost:8080/"
        },
        "id": "WLtaXHgVk-A-",
        "outputId": "7046bf9d-8087-4c13-f58b-5b376f5a8d9e"
      },
      "outputs": [
        {
          "output_type": "stream",
          "name": "stdout",
          "text": [
            "GRADIENT NORM: 10.63\n",
            "TIME: 31.613465785980225 sec\n"
          ]
        }
      ],
      "source": [
        "batchGradientDescent(X_train, y_train,\n",
        "                     batch_weights, batch_bias,\n",
        "                     theta = 11,\n",
        "                     eta = 0.005)"
      ]
    },
    {
      "cell_type": "code",
      "execution_count": 453,
      "metadata": {
        "colab": {
          "base_uri": "https://localhost:8080/"
        },
        "id": "pBjCUrVXPOfu",
        "outputId": "3e208fce-7197-4742-de6a-a1bfb1c70fe3"
      },
      "outputs": [
        {
          "output_type": "stream",
          "name": "stdout",
          "text": [
            "TIME: 2.115476131439209 sec\n"
          ]
        }
      ],
      "source": [
        "minibatchGradientDescent(X_train, y_train,\n",
        "                         minibatch_weights, minibatch_bias,\n",
        "                         num_epochs = 75,\n",
        "                         batch_size = 32,\n",
        "                         eta = 0.005)"
      ]
    },
    {
      "cell_type": "code",
      "execution_count": 454,
      "metadata": {
        "colab": {
          "base_uri": "https://localhost:8080/"
        },
        "id": "SmDXdJe30tH3",
        "outputId": "6ef1b49f-7af5-4784-91b2-f1f8529cda1c"
      },
      "outputs": [
        {
          "output_type": "stream",
          "name": "stdout",
          "text": [
            "TIME: 26.186172246932983 sec\n"
          ]
        }
      ],
      "source": [
        "stochasticGradientDescent(X_train, y_train,\n",
        "                         stochastic_weights, stochastic_bias,\n",
        "                         num_epochs = 75,\n",
        "                         eta = 0.005)"
      ]
    },
    {
      "cell_type": "code",
      "execution_count": 455,
      "metadata": {
        "colab": {
          "base_uri": "https://localhost:8080/"
        },
        "id": "ad3XvsFfQubf",
        "outputId": "aecd86b9-a14c-4bb2-dc45-e4995755bb80"
      },
      "outputs": [
        {
          "output_type": "stream",
          "name": "stdout",
          "text": [
            "BATCH GADIENT DESCENT ACCURACY: 92.12%\n"
          ]
        }
      ],
      "source": [
        "#measure the accuracy of the model using the testing set\n",
        "batch_y_preds = sigmoid(X_test @ batch_weights + batch_bias)\n",
        "batch_y_preds = (batch_y_preds > 0.5).float()\n",
        "\n",
        "batch_accuracy = 100 * torch.eq(y_test, batch_y_preds).sum()/y_test.size(0) #generates a tensor with True or False depending on if the values are equal\n",
        "print(\"BATCH GADIENT DESCENT ACCURACY: {:.2f}%\".format(batch_accuracy))"
      ]
    },
    {
      "cell_type": "code",
      "execution_count": 456,
      "metadata": {
        "colab": {
          "base_uri": "https://localhost:8080/"
        },
        "id": "SjyPbMaRVnHV",
        "outputId": "7460ad43-953a-48f6-d68f-0a2448ef5214"
      },
      "outputs": [
        {
          "output_type": "stream",
          "name": "stdout",
          "text": [
            "MINIBATCH GADIENT DESCENT ACCURACY: 78.85%\n"
          ]
        }
      ],
      "source": [
        "#measure the accuracy of the model using the testing set\n",
        "minibatch_y_preds = sigmoid(X_test @ minibatch_weights + minibatch_bias)\n",
        "minibatch_y_preds = (minibatch_y_preds > 0.5).float()\n",
        "\n",
        "minibatch_accuracy = 100 * torch.eq(y_test, minibatch_y_preds).sum()/y_test.size(0)\n",
        "print(\"MINIBATCH GADIENT DESCENT ACCURACY: {:.2f}%\".format(minibatch_accuracy))"
      ]
    },
    {
      "cell_type": "code",
      "execution_count": 457,
      "metadata": {
        "colab": {
          "base_uri": "https://localhost:8080/"
        },
        "id": "7fOHeo8a6LS1",
        "outputId": "6f9b098f-822e-4427-bcb9-036f1bb35672"
      },
      "outputs": [
        {
          "output_type": "stream",
          "name": "stdout",
          "text": [
            "STOCHASTIC GADIENT DESCENT ACCURACY: 83.65%\n"
          ]
        }
      ],
      "source": [
        "#measure the accuracy of the model using the testing set\n",
        "stochastic_y_preds = sigmoid(X_test @ stochastic_weights + stochastic_bias)\n",
        "stochastic_y_preds = (stochastic_y_preds > 0.5).float()\n",
        "\n",
        "stochastic_accuracy = 100 * torch.eq(y_test, stochastic_y_preds).sum()/y_test.size(0)\n",
        "print(\"STOCHASTIC GADIENT DESCENT ACCURACY: {:.2f}%\".format(stochastic_accuracy))"
      ]
    },
    {
      "cell_type": "code",
      "source": [
        "from sklearn.metrics import confusion_matrix"
      ],
      "metadata": {
        "id": "q6GPj2b4Ry2E"
      },
      "execution_count": 458,
      "outputs": []
    },
    {
      "cell_type": "code",
      "source": [
        "print(\"BATCH CONFUSION MATRIX:\")\n",
        "\n",
        "batch_confusion_matrix = confusion_matrix(y_test, batch_y_preds)\n",
        "print(batch_confusion_matrix)\n",
        "\n",
        "batch_precision = batch_confusion_matrix[1][1]/(batch_confusion_matrix[1][1] + batch_confusion_matrix[0][1])\n",
        "batch_recall = batch_confusion_matrix[1][1]/(batch_confusion_matrix[1][1] + batch_confusion_matrix[1][0])"
      ],
      "metadata": {
        "colab": {
          "base_uri": "https://localhost:8080/"
        },
        "id": "mEz3-B2ZR0-r",
        "outputId": "4261bc09-cac5-4255-9745-af8a46893e8d"
      },
      "execution_count": 459,
      "outputs": [
        {
          "output_type": "stream",
          "name": "stdout",
          "text": [
            "BATCH CONFUSION MATRIX:\n",
            "[[179  21]\n",
            " [ 20 300]]\n"
          ]
        }
      ]
    },
    {
      "cell_type": "code",
      "source": [
        "print(\"MINIBATCH CONFUSION MATRIX:\")\n",
        "\n",
        "minibatch_confusion_matrix = confusion_matrix(y_test, minibatch_y_preds)\n",
        "print(minibatch_confusion_matrix)\n",
        "\n",
        "minibatch_precision = minibatch_confusion_matrix[1][1]/(minibatch_confusion_matrix[1][1] + minibatch_confusion_matrix[0][1])\n",
        "minibatch_recall = minibatch_confusion_matrix[1][1]/(minibatch_confusion_matrix[1][1] + minibatch_confusion_matrix[1][0])"
      ],
      "metadata": {
        "colab": {
          "base_uri": "https://localhost:8080/"
        },
        "id": "DkcSw3MwSH-F",
        "outputId": "ea5118f5-11ff-463d-ef93-f7859d0e210e"
      },
      "execution_count": 460,
      "outputs": [
        {
          "output_type": "stream",
          "name": "stdout",
          "text": [
            "MINIBATCH CONFUSION MATRIX:\n",
            "[[ 93 107]\n",
            " [  3 317]]\n"
          ]
        }
      ]
    },
    {
      "cell_type": "code",
      "source": [
        "print(\"STOCHASTIC CONFUSION MATRIX:\")\n",
        "\n",
        "stochastic_confusion_matrix = confusion_matrix(y_test, stochastic_y_preds)\n",
        "print(stochastic_confusion_matrix)\n",
        "\n",
        "stochastic_precision = stochastic_confusion_matrix[1][1]/(stochastic_confusion_matrix[1][1] + stochastic_confusion_matrix[0][1])\n",
        "stochastic_recall = stochastic_confusion_matrix[1][1]/(stochastic_confusion_matrix[1][1] + stochastic_confusion_matrix[1][0])"
      ],
      "metadata": {
        "colab": {
          "base_uri": "https://localhost:8080/"
        },
        "id": "t-MhDmChSIl1",
        "outputId": "14fd327b-0493-4c98-e824-22fb6f4b518e"
      },
      "execution_count": 461,
      "outputs": [
        {
          "output_type": "stream",
          "name": "stdout",
          "text": [
            "STOCHASTIC CONFUSION MATRIX:\n",
            "[[196   4]\n",
            " [ 81 239]]\n"
          ]
        }
      ]
    },
    {
      "cell_type": "code",
      "execution_count": 462,
      "metadata": {
        "id": "pHSU4MfRCBrI"
      },
      "outputs": [],
      "source": [
        "def adam(X, y, w, b, num_epochs = 10, eta = 0.01, beta1 = 0.9, beta2 = 0.999, theta = 10, epsilon = 10e-8):\n",
        "  start_time = time.time()\n",
        "\n",
        "  #initialize the weight and bias gradients\n",
        "  w_grad = torch.rand(16, 1)\n",
        "  b_grad = torch.rand(1, 1)\n",
        "\n",
        "  #initialize the gradient to ones using\n",
        "  grad = torch.cat([w_grad, b_grad], dim=0)\n",
        "  grad_norm = float('inf') #initalize as inf for upper bound\n",
        "\n",
        "  #initialize the moment vectors\n",
        "  M = torch.zeros(17, 1)\n",
        "  V = torch.zeros(17, 1)\n",
        "\n",
        "  #initialize index to track the current m and v\n",
        "  t = 0\n",
        "\n",
        "  for epoch_idx in range(num_epochs):\n",
        "    epoch = X[torch.randperm(X.size(0))] #generate a random permutation of X rows\n",
        "    total_loss = 0\n",
        "\n",
        "    print(\"\\rEPOCH {}\".format(epoch_idx + 1), end = '', flush = True)\n",
        "    for instance in epoch:\n",
        "      #iterate the index t\n",
        "      t += 1\n",
        "\n",
        "      # calculate the predictions\n",
        "      y_preds = sigmoid(instance @ w + b)\n",
        "\n",
        "      #clamp to avoid 0 and 1 in the prediction set\n",
        "      clamped_y_preds = torch.clamp(y_preds, 0.00001, 0.99999)\n",
        "\n",
        "      # calculate the loss based on the predictions\n",
        "      loss = -torch.mean((y * torch.log(clamped_y_preds) + (1 - y) * torch.log(1-clamped_y_preds)))\n",
        "      total_loss += loss\n",
        "\n",
        "      #print(\"\\rLOSS: {:.2f}\".format(loss), end = '', flush = True)\n",
        "\n",
        "      # calculate the gradient of the loss function\n",
        "      w_grad = X_train.T @ (y_preds - y_train)\n",
        "      b_grad = torch.mean(y_preds - y_train)\n",
        "\n",
        "      #update the gradient and recompute the Euclidean norm\n",
        "      grad = torch.cat([w_grad, b_grad.reshape(1, 1)], dim = 0)\n",
        "      grad_norm = grad.norm(dim=0, p=2)[0]\n",
        "\n",
        "      #print(\"\\rGRADIENT NORM: {:.2f}\".format(grad_norm), end='', flush=True)\n",
        "\n",
        "      #terminate if there is approximate convergence based on theta\n",
        "      if(grad_norm <= theta):\n",
        "        end_time = time.time()\n",
        "        print(f\"\\nTIME: {end_time-start_time} sec\")\n",
        "\n",
        "        return\n",
        "\n",
        "\n",
        "      #update biased first moment estimate and second raw moment estimates\n",
        "      m = beta1 * M[:, t-1].unsqueeze(1) + (1 - beta1) * grad\n",
        "      v = beta2 * V[:, t-1].unsqueeze(1) + (1 - beta2) * torch.square(grad)\n",
        "\n",
        "      M = torch.cat((M, m), dim=1)\n",
        "      V = torch.cat((V, v), dim=1)\n",
        "\n",
        "      #compute the bias-corrected first moment estimates, and second raw raw moment estimates\n",
        "      m_hat = m/(1-(beta1**t))\n",
        "      v_hat = v/(1-(beta2**t))\n",
        "\n",
        "      # update the weights and biases based on the learning rate and gradient\n",
        "      w -= eta * m_hat[:16, :]/(torch.sqrt(v_hat[:16, :]) + epsilon)\n",
        "      b -= eta * m_hat[-1, :]/(torch.sqrt(v_hat[-1, :]) + epsilon)\n",
        "\n",
        "  end_time = time.time()\n",
        "  print(f\"\\nTIME: {end_time-start_time} sec\")\n",
        "\n",
        "    #print(\"\\rGRADIENT NORM: {:.2f}\".format(grad_norm), end = '', flush = True)"
      ]
    },
    {
      "cell_type": "code",
      "execution_count": 463,
      "metadata": {
        "id": "T49aRS8M4W7-"
      },
      "outputs": [],
      "source": [
        "def adagrad(X, y, w, b, num_epochs = 10, eta = 0.01, theta = 10, epsilon = 10e-8):\n",
        "  start_time = time.time()\n",
        "\n",
        "  #initialize the weight and bias gradients\n",
        "  w_grad = torch.zeros(16, 1)\n",
        "  b_grad = torch.zeros(1, 1)\n",
        "\n",
        "  #initialize the gradient to ones using\n",
        "  grad = torch.cat([w_grad, b_grad], dim=0)\n",
        "  grad_norm = float('inf') #initalize as inf for upper bound\n",
        "\n",
        "  #initialize the moment vectors\n",
        "  G = torch.zeros(17, 17)\n",
        "\n",
        "  #initialize index to track the time step\n",
        "  t = 0\n",
        "\n",
        "  for epoch_idx in range(num_epochs):\n",
        "    epoch = X[torch.randperm(X.size(0))] #generate a random permutation of X rows\n",
        "    total_loss = 0\n",
        "\n",
        "    print(\"\\rEPOCH {}\".format(epoch_idx + 1), end = '', flush = True)\n",
        "    for instance in epoch:\n",
        "      #iterate the index t\n",
        "      t += 1\n",
        "\n",
        "      # calculate the predictions\n",
        "      y_preds = sigmoid(instance @ w + b)\n",
        "\n",
        "      #clamp to avoid 0 and 1 in the prediction set\n",
        "      clamped_y_preds = torch.clamp(y_preds, 0.00001, 0.99999)\n",
        "\n",
        "      # calculate the loss based on the predictions\n",
        "      loss = -torch.mean((y * torch.log(clamped_y_preds) + (1 - y) * torch.log(1-clamped_y_preds)))\n",
        "      total_loss += loss\n",
        "\n",
        "      #print(\"\\rLOSS: {:.2f}\".format(loss), end = '', flush = True)\n",
        "\n",
        "      # calculate the gradient of the loss function\n",
        "      w_grad = X_train.T @ (y_preds - y_train)\n",
        "      b_grad = torch.mean(y_preds - y_train)\n",
        "\n",
        "      #update the gradient and recompute the Euclidean norm\n",
        "      grad = torch.cat([w_grad, b_grad.reshape(1, 1)], dim = 0)\n",
        "      grad_norm = grad.norm(dim=0, p=2)[0]\n",
        "\n",
        "      G += (grad @ grad.T) #recalculate the outerproduct sum G\n",
        "\n",
        "      #print(\"\\rGRADIENT NORM: {:.2f}\".format(grad_norm), end='', flush=True)\n",
        "\n",
        "      #terminate if there is approximate convergence based on theta\n",
        "      if(grad_norm <= theta):\n",
        "          end_time = time.time()\n",
        "          print(f\"\\nTIME: {end_time-start_time} sec\")\n",
        "\n",
        "          return\n",
        "\n",
        "      # update the weights and biases based on the learning rate and gradient\n",
        "      step = eta * torch.rsqrt(G+epsilon) @ grad\n",
        "\n",
        "      w -= step[:16, :]\n",
        "      b -= step[-1, :]\n",
        "\n",
        "  end_time = time.time()\n",
        "  print(f\"\\nTIME: {end_time-start_time} sec\")\n",
        "\n",
        "    #print(\"\\rGRADIENT NORM: {:.2f}\".format(grad_norm), end = '', flush = True)"
      ]
    },
    {
      "cell_type": "code",
      "execution_count": 464,
      "metadata": {
        "id": "9CXqPdRMeb3D"
      },
      "outputs": [],
      "source": [
        "#initalize the weights and bias for adam optimized gradient descent method\n",
        "adam_weights = torch.rand((num_features, 1))\n",
        "adam_bias = torch.rand(1)\n",
        "\n",
        "#initalize the weights and bias for adagrad optimized gradient descent method\n",
        "adagrad_weights = torch.rand((num_features, 1))\n",
        "adagrad_bias = torch.rand(1)"
      ]
    },
    {
      "cell_type": "code",
      "execution_count": 465,
      "metadata": {
        "colab": {
          "base_uri": "https://localhost:8080/"
        },
        "id": "x7hiQrjISoAt",
        "outputId": "37d8ebfa-03e1-47cd-a2a5-93771465c7f7"
      },
      "outputs": [
        {
          "output_type": "stream",
          "name": "stdout",
          "text": [
            "EPOCH 75\n",
            "TIME: 32.10290551185608 sec\n"
          ]
        }
      ],
      "source": [
        "adam(X_train, y_train, adam_weights, adam_bias, num_epochs = 75, eta = 0.001, beta1 = 0.9, beta2 = 0.999, theta = 11, epsilon = 10e-8)"
      ]
    },
    {
      "cell_type": "code",
      "execution_count": 466,
      "metadata": {
        "colab": {
          "base_uri": "https://localhost:8080/"
        },
        "id": "Hzl_p4-SBjK5",
        "outputId": "ca3ca38c-9a7a-4ac1-8cb4-1df7b5289817"
      },
      "outputs": [
        {
          "output_type": "stream",
          "name": "stdout",
          "text": [
            "EPOCH 75\n",
            "TIME: 16.112664222717285 sec\n"
          ]
        }
      ],
      "source": [
        "adagrad(X_train, y_train, adagrad_weights, adagrad_bias, num_epochs = 75, eta = 0.01, theta = 10, epsilon = 10e-8)"
      ]
    },
    {
      "cell_type": "code",
      "execution_count": 467,
      "metadata": {
        "colab": {
          "base_uri": "https://localhost:8080/"
        },
        "id": "8baLaLnNSi6d",
        "outputId": "19abc4f3-c987-4485-97fc-cd3f723a0ae9"
      },
      "outputs": [
        {
          "output_type": "stream",
          "name": "stdout",
          "text": [
            "STOCHASTIC GADIENT DESCENT ACCURACY: 89.42%\n"
          ]
        }
      ],
      "source": [
        "#measure the accuracy of the model using the testing set\n",
        "adam_y_preds = sigmoid(X_test @ adam_weights + adam_bias)\n",
        "adam_y_preds = (adam_y_preds>0.5).float()\n",
        "\n",
        "adam_accuracy = 100 * torch.eq(y_test, adam_y_preds).sum()/y_test.size(0)\n",
        "print(\"STOCHASTIC GADIENT DESCENT ACCURACY: {:.2f}%\".format(adam_accuracy))"
      ]
    },
    {
      "cell_type": "code",
      "execution_count": 468,
      "metadata": {
        "colab": {
          "base_uri": "https://localhost:8080/"
        },
        "id": "ThXs5S7PCZmM",
        "outputId": "c174d360-2850-49e7-d3ca-db1fa7da1629"
      },
      "outputs": [
        {
          "output_type": "stream",
          "name": "stdout",
          "text": [
            "ADAGRAD GADIENT DESCENT ACCURACY: 32.31%\n"
          ]
        }
      ],
      "source": [
        "#measure the accuracy of the model using the testing set\n",
        "adagrad_y_preds = sigmoid(X_test @ adagrad_weights + adagrad_bias)\n",
        "adagrad_y_preds = (adagrad_y_preds>0.5).float()\n",
        "\n",
        "adagrad_accuracy = 100 * torch.eq(y_test, adagrad_y_preds).sum()/y_test.size(0)\n",
        "print(\"ADAGRAD GADIENT DESCENT ACCURACY: {:.2f}%\".format(adagrad_accuracy))"
      ]
    },
    {
      "cell_type": "code",
      "source": [
        "print(\"ADAM CONFUSION MATRIX:\")\n",
        "\n",
        "adam_confusion_matrix = confusion_matrix(y_test, adam_y_preds)\n",
        "print(adam_confusion_matrix)\n",
        "\n",
        "adam_precision = adam_confusion_matrix[1][1]/(adam_confusion_matrix[1][1] + adam_confusion_matrix[0][1])\n",
        "adam_recall = adam_confusion_matrix[1][1]/(adam_confusion_matrix[1][1] + adam_confusion_matrix[1][0])"
      ],
      "metadata": {
        "colab": {
          "base_uri": "https://localhost:8080/"
        },
        "id": "v1REAsCmIIsc",
        "outputId": "4bf4ce7b-8ce5-4e96-b3e6-c3950670e31c"
      },
      "execution_count": 469,
      "outputs": [
        {
          "output_type": "stream",
          "name": "stdout",
          "text": [
            "ADAM CONFUSION MATRIX:\n",
            "[[170  30]\n",
            " [ 25 295]]\n"
          ]
        }
      ]
    },
    {
      "cell_type": "code",
      "source": [
        "print(\"ADAGRAD CONFUSION MATRIX:\")\n",
        "\n",
        "adagrad_confusion_matrix = confusion_matrix(y_test, adagrad_y_preds)\n",
        "print(adagrad_confusion_matrix)\n",
        "\n",
        "adagrad_precision = adagrad_confusion_matrix[1][1]/(adagrad_confusion_matrix[1][1] + adagrad_confusion_matrix[0][1])\n",
        "adagrad_recall = adagrad_confusion_matrix[1][1]/(adagrad_confusion_matrix[1][1] + adagrad_confusion_matrix[1][0])"
      ],
      "metadata": {
        "colab": {
          "base_uri": "https://localhost:8080/"
        },
        "id": "dWZ5_XaBJqXi",
        "outputId": "cb508a10-fc9b-4f0b-cfed-3d49f624ee6d"
      },
      "execution_count": 470,
      "outputs": [
        {
          "output_type": "stream",
          "name": "stdout",
          "text": [
            "ADAGRAD CONFUSION MATRIX:\n",
            "[[  4 196]\n",
            " [156 164]]\n"
          ]
        }
      ]
    },
    {
      "cell_type": "code",
      "source": [
        "print(\"FINAL RESULTS:\")\n",
        "\n",
        "print(\"BATCH:\\n\\tPrecision: {:.2f}%\\n\\tRecall: {:.2f}%\\n\\tAccuracy: {:.2f}%\\n\".format(batch_precision * 100, batch_recall * 100, batch_accuracy))\n",
        "print(\"MINIBATCH:\\n\\tPrecision: {:.2f}%\\n\\tRecall: {:.2f}%\\n\\tAccuracy: {:.2f}%\\n\".format(minibatch_precision * 100, minibatch_recall * 100, minibatch_accuracy))\n",
        "print(\"STOCHASTIC:\\n\\tPrecision: {:.2f}%\\n\\tRecall: {:.2f}%\\n\\tAccuracy: {:.2f}%\\n\".format(stochastic_precision * 100, stochastic_recall * 100, stochastic_accuracy))\n",
        "print(\"ADAM:\\n\\tPrecision: {:.2f}%\\n\\tRecall: {:.2f}%\\n\\tAccuracy: {:.2f}%\\n\".format(adam_precision * 100, adam_recall * 100, adam_accuracy))\n",
        "print(\"ADAGRAD:\\n\\tPrecision: {:.2f}%\\n\\tRecall: {:.2f}%\\n\\tAccuracy: {:.2f}%\\n\".format(adagrad_precision * 100, adagrad_recall * 100, adagrad_accuracy))"
      ],
      "metadata": {
        "colab": {
          "base_uri": "https://localhost:8080/"
        },
        "id": "QEeuVXQ0USof",
        "outputId": "f2c61f40-1b23-447e-a1a2-18f439a8049a"
      },
      "execution_count": 471,
      "outputs": [
        {
          "output_type": "stream",
          "name": "stdout",
          "text": [
            "FINAL RESULTS:\n",
            "BATCH:\n",
            "\tPrecision: 93.46%\n",
            "\tRecall: 93.75%\n",
            "\tAccuracy: 92.12%\n",
            "\n",
            "MINIBATCH:\n",
            "\tPrecision: 74.76%\n",
            "\tRecall: 99.06%\n",
            "\tAccuracy: 78.85%\n",
            "\n",
            "STOCHASTIC:\n",
            "\tPrecision: 98.35%\n",
            "\tRecall: 74.69%\n",
            "\tAccuracy: 83.65%\n",
            "\n",
            "ADAM:\n",
            "\tPrecision: 90.77%\n",
            "\tRecall: 92.19%\n",
            "\tAccuracy: 89.42%\n",
            "\n",
            "ADAGRAD:\n",
            "\tPrecision: 45.56%\n",
            "\tRecall: 51.25%\n",
            "\tAccuracy: 32.31%\n",
            "\n"
          ]
        }
      ]
    },
    {
      "cell_type": "markdown",
      "metadata": {
        "id": "8b9_RkodXmio"
      },
      "source": [
        "#Conclusion\n",
        "\n",
        "In this instance, after comparing the precison, recall, and accuracy of the adam and adagrad optimizations to the standard batch, minibatc, and stochastic gradient descent algorithm it is clear optimizations are not necessary for this problem. This is because neither optimization offers a signifcant enough boost in either accuracy, precision, or recall in comparison to the standard versions of gradient descent to be worth the extra time and memory it take to preform the calculations necessary for the optimizations.\n",
        "\n",
        "In this specific problem because the dataset has only 250 datapoints, batch gradient descent is best, since it does not take a prohihibitively long time to use the entire training set for one iteration. When looking at the final results, one can also see that ranks among the highest in both precision, recall, and accruacy.\n",
        "\n",
        "There is also a distinct loss of accuracy with the adagrad optimization which is preforming notably worse than the other algorithms. After combing over my implementation I still cannot figure out why this is happening. The accuracy does improve as you increase the number of epochs, but because of the extra processing the optimization has to do, increasing the epochs is not an effective way of compensating.\n"
      ]
    }
  ],
  "metadata": {
    "colab": {
      "provenance": []
    },
    "kernelspec": {
      "display_name": "Python 3",
      "name": "python3"
    },
    "language_info": {
      "name": "python"
    }
  },
  "nbformat": 4,
  "nbformat_minor": 0
}