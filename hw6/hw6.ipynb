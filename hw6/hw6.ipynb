{
  "cells": [
    {
      "cell_type": "code",
      "execution_count": 8,
      "metadata": {
        "colab": {
          "base_uri": "https://localhost:8080/"
        },
        "id": "jQNg6_7agBBc",
        "outputId": "af61250a-1c1a-4536-d152-069cf1089daf"
      },
      "outputs": [
        {
          "name": "stdout",
          "output_type": "stream",
          "text": [
            "Requirement already satisfied: datasets in c:\\users\\james pringle\\appdata\\local\\programs\\python\\python310\\lib\\site-packages (2.18.0)\n",
            "Requirement already satisfied: numpy>=1.17 in c:\\users\\james pringle\\appdata\\local\\programs\\python\\python310\\lib\\site-packages (from datasets) (1.26.1)\n",
            "Requirement already satisfied: pyarrow>=12.0.0 in c:\\users\\james pringle\\appdata\\local\\programs\\python\\python310\\lib\\site-packages (from datasets) (15.0.2)\n",
            "Requirement already satisfied: xxhash in c:\\users\\james pringle\\appdata\\local\\programs\\python\\python310\\lib\\site-packages (from datasets) (3.4.1)\n",
            "Requirement already satisfied: pandas in c:\\users\\james pringle\\appdata\\local\\programs\\python\\python310\\lib\\site-packages (from datasets) (2.1.2)\n",
            "Requirement already satisfied: multiprocess in c:\\users\\james pringle\\appdata\\local\\programs\\python\\python310\\lib\\site-packages (from datasets) (0.70.16)\n",
            "Requirement already satisfied: packaging in c:\\users\\james pringle\\appdata\\roaming\\python\\python310\\site-packages (from datasets) (23.2)\n",
            "Requirement already satisfied: fsspec[http]<=2024.2.0,>=2023.1.0 in c:\\users\\james pringle\\appdata\\local\\programs\\python\\python310\\lib\\site-packages (from datasets) (2023.10.0)\n",
            "Requirement already satisfied: filelock in c:\\users\\james pringle\\appdata\\local\\programs\\python\\python310\\lib\\site-packages (from datasets) (3.13.0)\n",
            "Requirement already satisfied: tqdm>=4.62.1 in c:\\users\\james pringle\\appdata\\local\\programs\\python\\python310\\lib\\site-packages (from datasets) (4.66.2)\n",
            "Requirement already satisfied: requests>=2.19.0 in c:\\users\\james pringle\\appdata\\local\\programs\\python\\python310\\lib\\site-packages (from datasets) (2.31.0)\n",
            "Requirement already satisfied: dill<0.3.9,>=0.3.0 in c:\\users\\james pringle\\appdata\\local\\programs\\python\\python310\\lib\\site-packages (from datasets) (0.3.8)\n",
            "Requirement already satisfied: aiohttp in c:\\users\\james pringle\\appdata\\local\\programs\\python\\python310\\lib\\site-packages (from datasets) (3.9.3)\n",
            "Requirement already satisfied: pyarrow-hotfix in c:\\users\\james pringle\\appdata\\local\\programs\\python\\python310\\lib\\site-packages (from datasets) (0.6)\n",
            "Requirement already satisfied: pyyaml>=5.1 in c:\\users\\james pringle\\appdata\\local\\programs\\python\\python310\\lib\\site-packages (from datasets) (6.0.1)\n",
            "Requirement already satisfied: huggingface-hub>=0.19.4 in c:\\users\\james pringle\\appdata\\local\\programs\\python\\python310\\lib\\site-packages (from datasets) (0.22.2)\n",
            "Requirement already satisfied: async-timeout<5.0,>=4.0 in c:\\users\\james pringle\\appdata\\local\\programs\\python\\python310\\lib\\site-packages (from aiohttp->datasets) (4.0.3)\n",
            "Requirement already satisfied: multidict<7.0,>=4.5 in c:\\users\\james pringle\\appdata\\local\\programs\\python\\python310\\lib\\site-packages (from aiohttp->datasets) (6.0.5)\n",
            "Requirement already satisfied: attrs>=17.3.0 in c:\\users\\james pringle\\appdata\\local\\programs\\python\\python310\\lib\\site-packages (from aiohttp->datasets) (23.2.0)\n",
            "Requirement already satisfied: yarl<2.0,>=1.0 in c:\\users\\james pringle\\appdata\\local\\programs\\python\\python310\\lib\\site-packages (from aiohttp->datasets) (1.9.4)\n",
            "Requirement already satisfied: aiosignal>=1.1.2 in c:\\users\\james pringle\\appdata\\local\\programs\\python\\python310\\lib\\site-packages (from aiohttp->datasets) (1.3.1)\n",
            "Requirement already satisfied: frozenlist>=1.1.1 in c:\\users\\james pringle\\appdata\\local\\programs\\python\\python310\\lib\\site-packages (from aiohttp->datasets) (1.4.1)\n",
            "Requirement already satisfied: typing-extensions>=3.7.4.3 in c:\\users\\james pringle\\appdata\\local\\programs\\python\\python310\\lib\\site-packages (from huggingface-hub>=0.19.4->datasets) (4.8.0)\n",
            "Requirement already satisfied: urllib3<3,>=1.21.1 in c:\\users\\james pringle\\appdata\\local\\programs\\python\\python310\\lib\\site-packages (from requests>=2.19.0->datasets) (2.0.7)\n",
            "Requirement already satisfied: charset-normalizer<4,>=2 in c:\\users\\james pringle\\appdata\\local\\programs\\python\\python310\\lib\\site-packages (from requests>=2.19.0->datasets) (3.3.1)\n",
            "Requirement already satisfied: idna<4,>=2.5 in c:\\users\\james pringle\\appdata\\local\\programs\\python\\python310\\lib\\site-packages (from requests>=2.19.0->datasets) (3.4)\n",
            "Requirement already satisfied: certifi>=2017.4.17 in c:\\users\\james pringle\\appdata\\local\\programs\\python\\python310\\lib\\site-packages (from requests>=2.19.0->datasets) (2023.7.22)\n",
            "Requirement already satisfied: colorama in c:\\users\\james pringle\\appdata\\roaming\\python\\python310\\site-packages (from tqdm>=4.62.1->datasets) (0.4.6)\n",
            "Requirement already satisfied: python-dateutil>=2.8.2 in c:\\users\\james pringle\\appdata\\roaming\\python\\python310\\site-packages (from pandas->datasets) (2.8.2)\n",
            "Requirement already satisfied: tzdata>=2022.1 in c:\\users\\james pringle\\appdata\\local\\programs\\python\\python310\\lib\\site-packages (from pandas->datasets) (2023.3)\n",
            "Requirement already satisfied: pytz>=2020.1 in c:\\users\\james pringle\\appdata\\local\\programs\\python\\python310\\lib\\site-packages (from pandas->datasets) (2023.3.post1)\n",
            "Requirement already satisfied: six>=1.5 in c:\\users\\james pringle\\appdata\\roaming\\python\\python310\\site-packages (from python-dateutil>=2.8.2->pandas->datasets) (1.16.0)\n"
          ]
        },
        {
          "name": "stderr",
          "output_type": "stream",
          "text": [
            "\n",
            "[notice] A new release of pip available: 22.3.1 -> 24.0\n",
            "[notice] To update, run: python.exe -m pip install --upgrade pip\n"
          ]
        },
        {
          "name": "stdout",
          "output_type": "stream",
          "text": [
            "Requirement already satisfied: transformers==4.30 in c:\\users\\james pringle\\appdata\\local\\programs\\python\\python310\\lib\\site-packages (4.30.0)\n",
            "Requirement already satisfied: safetensors>=0.3.1 in c:\\users\\james pringle\\appdata\\local\\programs\\python\\python310\\lib\\site-packages (from transformers==4.30) (0.4.2)\n",
            "Requirement already satisfied: numpy>=1.17 in c:\\users\\james pringle\\appdata\\local\\programs\\python\\python310\\lib\\site-packages (from transformers==4.30) (1.26.1)\n",
            "Requirement already satisfied: tqdm>=4.27 in c:\\users\\james pringle\\appdata\\local\\programs\\python\\python310\\lib\\site-packages (from transformers==4.30) (4.66.2)\n",
            "Requirement already satisfied: regex!=2019.12.17 in c:\\users\\james pringle\\appdata\\local\\programs\\python\\python310\\lib\\site-packages (from transformers==4.30) (2023.12.25)\n",
            "Requirement already satisfied: requests in c:\\users\\james pringle\\appdata\\local\\programs\\python\\python310\\lib\\site-packages (from transformers==4.30) (2.31.0)\n",
            "Requirement already satisfied: pyyaml>=5.1 in c:\\users\\james pringle\\appdata\\local\\programs\\python\\python310\\lib\\site-packages (from transformers==4.30) (6.0.1)\n",
            "Requirement already satisfied: tokenizers!=0.11.3,<0.14,>=0.11.1 in c:\\users\\james pringle\\appdata\\local\\programs\\python\\python310\\lib\\site-packages (from transformers==4.30) (0.13.3)\n",
            "Requirement already satisfied: filelock in c:\\users\\james pringle\\appdata\\local\\programs\\python\\python310\\lib\\site-packages (from transformers==4.30) (3.13.0)\n",
            "Requirement already satisfied: huggingface-hub<1.0,>=0.14.1 in c:\\users\\james pringle\\appdata\\local\\programs\\python\\python310\\lib\\site-packages (from transformers==4.30) (0.22.2)\n",
            "Requirement already satisfied: packaging>=20.0 in c:\\users\\james pringle\\appdata\\roaming\\python\\python310\\site-packages (from transformers==4.30) (23.2)\n",
            "Requirement already satisfied: typing-extensions>=3.7.4.3 in c:\\users\\james pringle\\appdata\\local\\programs\\python\\python310\\lib\\site-packages (from huggingface-hub<1.0,>=0.14.1->transformers==4.30) (4.8.0)\n",
            "Requirement already satisfied: fsspec>=2023.5.0 in c:\\users\\james pringle\\appdata\\local\\programs\\python\\python310\\lib\\site-packages (from huggingface-hub<1.0,>=0.14.1->transformers==4.30) (2023.10.0)\n",
            "Requirement already satisfied: colorama in c:\\users\\james pringle\\appdata\\roaming\\python\\python310\\site-packages (from tqdm>=4.27->transformers==4.30) (0.4.6)\n",
            "Requirement already satisfied: urllib3<3,>=1.21.1 in c:\\users\\james pringle\\appdata\\local\\programs\\python\\python310\\lib\\site-packages (from requests->transformers==4.30) (2.0.7)\n",
            "Requirement already satisfied: idna<4,>=2.5 in c:\\users\\james pringle\\appdata\\local\\programs\\python\\python310\\lib\\site-packages (from requests->transformers==4.30) (3.4)\n",
            "Requirement already satisfied: charset-normalizer<4,>=2 in c:\\users\\james pringle\\appdata\\local\\programs\\python\\python310\\lib\\site-packages (from requests->transformers==4.30) (3.3.1)\n",
            "Requirement already satisfied: certifi>=2017.4.17 in c:\\users\\james pringle\\appdata\\local\\programs\\python\\python310\\lib\\site-packages (from requests->transformers==4.30) (2023.7.22)\n"
          ]
        },
        {
          "name": "stderr",
          "output_type": "stream",
          "text": [
            "\n",
            "[notice] A new release of pip available: 22.3.1 -> 24.0\n",
            "[notice] To update, run: python.exe -m pip install --upgrade pip\n"
          ]
        },
        {
          "name": "stdout",
          "output_type": "stream",
          "text": [
            "Requirement already satisfied: transformers[torch] in c:\\users\\james pringle\\appdata\\local\\programs\\python\\python310\\lib\\site-packages (4.30.0)\n",
            "Requirement already satisfied: packaging>=20.0 in c:\\users\\james pringle\\appdata\\roaming\\python\\python310\\site-packages (from transformers[torch]) (23.2)\n",
            "Requirement already satisfied: requests in c:\\users\\james pringle\\appdata\\local\\programs\\python\\python310\\lib\\site-packages (from transformers[torch]) (2.31.0)\n",
            "Requirement already satisfied: pyyaml>=5.1 in c:\\users\\james pringle\\appdata\\local\\programs\\python\\python310\\lib\\site-packages (from transformers[torch]) (6.0.1)\n",
            "Requirement already satisfied: tqdm>=4.27 in c:\\users\\james pringle\\appdata\\local\\programs\\python\\python310\\lib\\site-packages (from transformers[torch]) (4.66.2)\n",
            "Requirement already satisfied: huggingface-hub<1.0,>=0.14.1 in c:\\users\\james pringle\\appdata\\local\\programs\\python\\python310\\lib\\site-packages (from transformers[torch]) (0.22.2)\n",
            "Requirement already satisfied: numpy>=1.17 in c:\\users\\james pringle\\appdata\\local\\programs\\python\\python310\\lib\\site-packages (from transformers[torch]) (1.26.1)\n",
            "Requirement already satisfied: filelock in c:\\users\\james pringle\\appdata\\local\\programs\\python\\python310\\lib\\site-packages (from transformers[torch]) (3.13.0)\n",
            "Requirement already satisfied: regex!=2019.12.17 in c:\\users\\james pringle\\appdata\\local\\programs\\python\\python310\\lib\\site-packages (from transformers[torch]) (2023.12.25)\n",
            "Requirement already satisfied: safetensors>=0.3.1 in c:\\users\\james pringle\\appdata\\local\\programs\\python\\python310\\lib\\site-packages (from transformers[torch]) (0.4.2)\n",
            "Requirement already satisfied: tokenizers!=0.11.3,<0.14,>=0.11.1 in c:\\users\\james pringle\\appdata\\local\\programs\\python\\python310\\lib\\site-packages (from transformers[torch]) (0.13.3)\n",
            "Requirement already satisfied: accelerate>=0.20.2 in c:\\users\\james pringle\\appdata\\local\\programs\\python\\python310\\lib\\site-packages (from transformers[torch]) (0.28.0)\n",
            "Requirement already satisfied: torch!=1.12.0,>=1.9 in c:\\users\\james pringle\\appdata\\local\\programs\\python\\python310\\lib\\site-packages (from transformers[torch]) (2.1.0)\n",
            "Requirement already satisfied: psutil in c:\\users\\james pringle\\appdata\\roaming\\python\\python310\\site-packages (from accelerate>=0.20.2->transformers[torch]) (5.9.6)\n",
            "Requirement already satisfied: typing-extensions>=3.7.4.3 in c:\\users\\james pringle\\appdata\\local\\programs\\python\\python310\\lib\\site-packages (from huggingface-hub<1.0,>=0.14.1->transformers[torch]) (4.8.0)\n",
            "Requirement already satisfied: fsspec>=2023.5.0 in c:\\users\\james pringle\\appdata\\local\\programs\\python\\python310\\lib\\site-packages (from huggingface-hub<1.0,>=0.14.1->transformers[torch]) (2023.10.0)\n",
            "Requirement already satisfied: networkx in c:\\users\\james pringle\\appdata\\local\\programs\\python\\python310\\lib\\site-packages (from torch!=1.12.0,>=1.9->transformers[torch]) (3.2.1)\n",
            "Requirement already satisfied: sympy in c:\\users\\james pringle\\appdata\\local\\programs\\python\\python310\\lib\\site-packages (from torch!=1.12.0,>=1.9->transformers[torch]) (1.12)\n",
            "Requirement already satisfied: jinja2 in c:\\users\\james pringle\\appdata\\local\\programs\\python\\python310\\lib\\site-packages (from torch!=1.12.0,>=1.9->transformers[torch]) (3.1.2)\n",
            "Requirement already satisfied: colorama in c:\\users\\james pringle\\appdata\\roaming\\python\\python310\\site-packages (from tqdm>=4.27->transformers[torch]) (0.4.6)\n",
            "Requirement already satisfied: urllib3<3,>=1.21.1 in c:\\users\\james pringle\\appdata\\local\\programs\\python\\python310\\lib\\site-packages (from requests->transformers[torch]) (2.0.7)\n",
            "Requirement already satisfied: idna<4,>=2.5 in c:\\users\\james pringle\\appdata\\local\\programs\\python\\python310\\lib\\site-packages (from requests->transformers[torch]) (3.4)\n",
            "Requirement already satisfied: certifi>=2017.4.17 in c:\\users\\james pringle\\appdata\\local\\programs\\python\\python310\\lib\\site-packages (from requests->transformers[torch]) (2023.7.22)\n",
            "Requirement already satisfied: charset-normalizer<4,>=2 in c:\\users\\james pringle\\appdata\\local\\programs\\python\\python310\\lib\\site-packages (from requests->transformers[torch]) (3.3.1)\n",
            "Requirement already satisfied: MarkupSafe>=2.0 in c:\\users\\james pringle\\appdata\\local\\programs\\python\\python310\\lib\\site-packages (from jinja2->torch!=1.12.0,>=1.9->transformers[torch]) (2.1.3)\n",
            "Requirement already satisfied: mpmath>=0.19 in c:\\users\\james pringle\\appdata\\local\\programs\\python\\python310\\lib\\site-packages (from sympy->torch!=1.12.0,>=1.9->transformers[torch]) (1.3.0)\n"
          ]
        },
        {
          "name": "stderr",
          "output_type": "stream",
          "text": [
            "\n",
            "[notice] A new release of pip available: 22.3.1 -> 24.0\n",
            "[notice] To update, run: python.exe -m pip install --upgrade pip\n"
          ]
        },
        {
          "name": "stdout",
          "output_type": "stream",
          "text": [
            "Requirement already satisfied: accelerate in c:\\users\\james pringle\\appdata\\local\\programs\\python\\python310\\lib\\site-packages (0.28.0)\n",
            "Requirement already satisfied: packaging>=20.0 in c:\\users\\james pringle\\appdata\\roaming\\python\\python310\\site-packages (from accelerate) (23.2)\n",
            "Requirement already satisfied: numpy>=1.17 in c:\\users\\james pringle\\appdata\\local\\programs\\python\\python310\\lib\\site-packages (from accelerate) (1.26.1)\n",
            "Requirement already satisfied: torch>=1.10.0 in c:\\users\\james pringle\\appdata\\local\\programs\\python\\python310\\lib\\site-packages (from accelerate) (2.1.0)\n",
            "Requirement already satisfied: pyyaml in c:\\users\\james pringle\\appdata\\local\\programs\\python\\python310\\lib\\site-packages (from accelerate) (6.0.1)\n",
            "Requirement already satisfied: psutil in c:\\users\\james pringle\\appdata\\roaming\\python\\python310\\site-packages (from accelerate) (5.9.6)\n",
            "Requirement already satisfied: huggingface-hub in c:\\users\\james pringle\\appdata\\local\\programs\\python\\python310\\lib\\site-packages (from accelerate) (0.22.2)\n",
            "Requirement already satisfied: safetensors>=0.3.1 in c:\\users\\james pringle\\appdata\\local\\programs\\python\\python310\\lib\\site-packages (from accelerate) (0.4.2)\n",
            "Requirement already satisfied: typing-extensions in c:\\users\\james pringle\\appdata\\local\\programs\\python\\python310\\lib\\site-packages (from torch>=1.10.0->accelerate) (4.8.0)\n",
            "Requirement already satisfied: sympy in c:\\users\\james pringle\\appdata\\local\\programs\\python\\python310\\lib\\site-packages (from torch>=1.10.0->accelerate) (1.12)\n",
            "Requirement already satisfied: networkx in c:\\users\\james pringle\\appdata\\local\\programs\\python\\python310\\lib\\site-packages (from torch>=1.10.0->accelerate) (3.2.1)\n",
            "Requirement already satisfied: filelock in c:\\users\\james pringle\\appdata\\local\\programs\\python\\python310\\lib\\site-packages (from torch>=1.10.0->accelerate) (3.13.0)\n",
            "Requirement already satisfied: fsspec in c:\\users\\james pringle\\appdata\\local\\programs\\python\\python310\\lib\\site-packages (from torch>=1.10.0->accelerate) (2023.10.0)\n",
            "Requirement already satisfied: jinja2 in c:\\users\\james pringle\\appdata\\local\\programs\\python\\python310\\lib\\site-packages (from torch>=1.10.0->accelerate) (3.1.2)\n",
            "Requirement already satisfied: tqdm>=4.42.1 in c:\\users\\james pringle\\appdata\\local\\programs\\python\\python310\\lib\\site-packages (from huggingface-hub->accelerate) (4.66.2)\n",
            "Requirement already satisfied: requests in c:\\users\\james pringle\\appdata\\local\\programs\\python\\python310\\lib\\site-packages (from huggingface-hub->accelerate) (2.31.0)\n",
            "Requirement already satisfied: colorama in c:\\users\\james pringle\\appdata\\roaming\\python\\python310\\site-packages (from tqdm>=4.42.1->huggingface-hub->accelerate) (0.4.6)\n",
            "Requirement already satisfied: MarkupSafe>=2.0 in c:\\users\\james pringle\\appdata\\local\\programs\\python\\python310\\lib\\site-packages (from jinja2->torch>=1.10.0->accelerate) (2.1.3)\n",
            "Requirement already satisfied: certifi>=2017.4.17 in c:\\users\\james pringle\\appdata\\local\\programs\\python\\python310\\lib\\site-packages (from requests->huggingface-hub->accelerate) (2023.7.22)\n",
            "Requirement already satisfied: charset-normalizer<4,>=2 in c:\\users\\james pringle\\appdata\\local\\programs\\python\\python310\\lib\\site-packages (from requests->huggingface-hub->accelerate) (3.3.1)\n",
            "Requirement already satisfied: urllib3<3,>=1.21.1 in c:\\users\\james pringle\\appdata\\local\\programs\\python\\python310\\lib\\site-packages (from requests->huggingface-hub->accelerate) (2.0.7)\n",
            "Requirement already satisfied: idna<4,>=2.5 in c:\\users\\james pringle\\appdata\\local\\programs\\python\\python310\\lib\\site-packages (from requests->huggingface-hub->accelerate) (3.4)\n",
            "Requirement already satisfied: mpmath>=0.19 in c:\\users\\james pringle\\appdata\\local\\programs\\python\\python310\\lib\\site-packages (from sympy->torch>=1.10.0->accelerate) (1.3.0)\n"
          ]
        },
        {
          "name": "stderr",
          "output_type": "stream",
          "text": [
            "\n",
            "[notice] A new release of pip available: 22.3.1 -> 24.0\n",
            "[notice] To update, run: python.exe -m pip install --upgrade pip\n"
          ]
        },
        {
          "name": "stdout",
          "output_type": "stream",
          "text": [
            "Requirement already satisfied: nltk in c:\\users\\james pringle\\appdata\\local\\programs\\python\\python310\\lib\\site-packages (3.8.1)\n",
            "Requirement already satisfied: tqdm in c:\\users\\james pringle\\appdata\\local\\programs\\python\\python310\\lib\\site-packages (from nltk) (4.66.2)\n",
            "Requirement already satisfied: click in c:\\users\\james pringle\\appdata\\local\\programs\\python\\python310\\lib\\site-packages (from nltk) (8.1.7)\n",
            "Requirement already satisfied: joblib in c:\\users\\james pringle\\appdata\\local\\programs\\python\\python310\\lib\\site-packages (from nltk) (1.3.2)\n",
            "Requirement already satisfied: regex>=2021.8.3 in c:\\users\\james pringle\\appdata\\local\\programs\\python\\python310\\lib\\site-packages (from nltk) (2023.12.25)\n",
            "Requirement already satisfied: colorama in c:\\users\\james pringle\\appdata\\roaming\\python\\python310\\site-packages (from click->nltk) (0.4.6)\n"
          ]
        },
        {
          "name": "stderr",
          "output_type": "stream",
          "text": [
            "\n",
            "[notice] A new release of pip available: 22.3.1 -> 24.0\n",
            "[notice] To update, run: python.exe -m pip install --upgrade pip\n"
          ]
        }
      ],
      "source": [
        "!pip install datasets\n",
        "!pip install transformers==4.30\n",
        "!pip install transformers[torch]\n",
        "!pip install accelerate -U\n",
        "!pip install nltk"
      ]
    },
    {
      "cell_type": "markdown",
      "metadata": {
        "id": "3NrvejPqoEVq"
      },
      "source": [
        "# Dataset Description\n",
        "\n"
      ]
    },
    {
      "cell_type": "markdown",
      "metadata": {
        "id": "p4Hf45jlBZzs"
      },
      "source": [
        "Data: https://data.world/opensnippets/bbc-uk-news-dataset\n",
        "\n",
        "The dataset that I will be using for this homework will be a BBC UK news dataset with roughly 16,000 entries. The dataset provides tags, titles, publication dates, authors, language, and of course the actual content of the articles and their summaries. The Dataset is however somewhat old, being createdd three years ago."
      ]
    },
    {
      "cell_type": "markdown",
      "metadata": {
        "id": "eb9oZ8UP2E78"
      },
      "source": [
        "# Data Analysis and Processing\n"
      ]
    },
    {
      "cell_type": "code",
      "execution_count": 9,
      "metadata": {
        "id": "uII9rsgxAKyb"
      },
      "outputs": [],
      "source": [
        "import os\n",
        "\n",
        "import json\n",
        "import pandas as pd\n",
        "import numpy as np\n",
        "import torch\n",
        "\n",
        "import datasets\n",
        "from datasets import Dataset, DatasetDict\n",
        "\n",
        "from transformers import BartTokenizer, BartForConditionalGeneration\n",
        "from transformers import Seq2SeqTrainingArguments, Seq2SeqTrainer\n",
        "from sklearn.model_selection import train_test_split"
      ]
    },
    {
      "cell_type": "code",
      "execution_count": 10,
      "metadata": {
        "id": "MWDziaeM__DM"
      },
      "outputs": [],
      "source": [
        "file_path = 'c:\\\\Users\\\\James Pringle\\\\Desktop\\\\Projects in Machine Learning and AI\\\\Homeworks\\\\hw6\\\\bbc_news_list_uk.json'\n",
        "\n",
        "with open(file_path, 'r') as file:\n",
        "    data = json.load(file)\n",
        "\n",
        "df = pd.DataFrame(data) #convert the json file in to a pandas dataframe"
      ]
    },
    {
      "cell_type": "code",
      "execution_count": 11,
      "metadata": {
        "colab": {
          "base_uri": "https://localhost:8080/"
        },
        "id": "7443p27QdDcE",
        "outputId": "4eaaaf3e-57b4-4a66-fec6-c29a92e975b8"
      },
      "outputs": [
        {
          "data": {
            "text/plain": [
              "Index(['tags', 'title', 'news_post_date', 'raw_content', 'content', 'url',\n",
              "       'author', 'language', '_id', 'region', 'short_description', 'category',\n",
              "       'crawled_at'],\n",
              "      dtype='object')"
            ]
          },
          "execution_count": 11,
          "metadata": {},
          "output_type": "execute_result"
        }
      ],
      "source": [
        "df.keys()"
      ]
    },
    {
      "cell_type": "code",
      "execution_count": 12,
      "metadata": {
        "id": "v8XrDiSOdKFY"
      },
      "outputs": [],
      "source": [
        "df = df[['content', 'short_description']] # Isolate the relevant columns\n",
        "df = df.dropna() # drop rows with empty values\n",
        "df = df.sample(n=100) #sample 10 rows from the entire dataframe to limit training time"
      ]
    },
    {
      "cell_type": "code",
      "execution_count": 13,
      "metadata": {
        "id": "GjrhPe8CTLTM"
      },
      "outputs": [],
      "source": [
        "# reset index and drop old index column\n",
        "df.reset_index(drop=True, inplace=True)\n",
        "train_df, test_df = train_test_split(df, test_size=0.1)\n",
        "\n",
        "\n",
        "# convert the dataframe into a dataset for hugging face\n",
        "train_dataset = Dataset.from_pandas(train_df)\n",
        "test_dataset = Dataset.from_pandas(test_df)"
      ]
    },
    {
      "cell_type": "markdown",
      "metadata": {
        "id": "BAbnUF53Qdcj"
      },
      "source": [
        "# Model\n",
        "\n"
      ]
    },
    {
      "cell_type": "code",
      "execution_count": 14,
      "metadata": {
        "colab": {
          "base_uri": "https://localhost:8080/",
          "height": 81,
          "referenced_widgets": [
            "c6605ebaf63242229987f1865d44e8ae",
            "3d1408995a3a48dabaa8410efb6e6fdf",
            "49116ea8b3f04cc890652bad4fa608d4",
            "890cecd992ef4c05972e7d361b050f0e",
            "2baadfa2e8394111af9e2dae923e8d11",
            "a77fa385847346318d441bdf6642de4c",
            "9e5dd2bfffc948529dc26c7ec9b45d9b",
            "9d3a1b4f9abe42beb39055146017c7da",
            "ca0000084b47418795696d2501c724ea",
            "7c457df881024b2f916e7f05a328906e",
            "b0eb6a7483c94109a550d7668e70705a",
            "31df1e1b14d543a9a6883b684184ca1b",
            "29b3808dead64ae7afa1fad66f6bdec1",
            "6ef1291a5af442ce8e5630ceb37f8ec9",
            "a1746dfc10ac413795ac158738ced947",
            "060c4e2dddb94e568924ec5350f8c15f",
            "a7493a46bc5942f985bcc3f7c0b59048",
            "05ba0a91b24b44e2bd4e7558f0f1addd",
            "e9a37f999ad14f6ab006374f560c37b0",
            "2d611d263d824eb4b33ae798534d34a3",
            "a627f514d3ff48e5a75c8e8b5b8d34d8",
            "28f90d0dc74441c784c6fd0564e9939b"
          ]
        },
        "id": "dye8B8xhkx-B",
        "outputId": "9c34717b-c43f-4445-8eb0-5e0a67442d63"
      },
      "outputs": [
        {
          "name": "stderr",
          "output_type": "stream",
          "text": [
            "Map: 100%|██████████| 90/90 [00:00<00:00, 213.33 examples/s]\n",
            "Map: 100%|██████████| 10/10 [00:00<00:00, 192.31 examples/s]\n"
          ]
        }
      ],
      "source": [
        "# define a tokenizer to tokenize the datasets\n",
        "tokenizer = BartTokenizer.from_pretrained(\"facebook/bart-large\")\n",
        "\n",
        "# Tokenize the input data\n",
        "def tokenize(example):\n",
        "    content = tokenizer(example['content'], truncation=True, padding='max_length', max_length=512)\n",
        "    summary = tokenizer(example['short_description'], truncation=True, padding='max_length', max_length=128)\n",
        "\n",
        "    content = {\n",
        "        'input_ids': content['input_ids'],\n",
        "        'attention_mask': content['attention_mask'],\n",
        "        'labels': summary['input_ids']\n",
        "    }\n",
        "\n",
        "    return content\n",
        "\n",
        "# Tokenize train dataset\n",
        "train_dataset = train_dataset.map(tokenize, batched=True)\n",
        "test_dataset = test_dataset.map(tokenize, batched=True)"
      ]
    },
    {
      "cell_type": "code",
      "execution_count": 15,
      "metadata": {
        "id": "r66cHh6uj-8t"
      },
      "outputs": [
        {
          "name": "stderr",
          "output_type": "stream",
          "text": [
            "c:\\Users\\James Pringle\\AppData\\Local\\Programs\\Python\\Python310\\lib\\site-packages\\transformers\\optimization.py:411: FutureWarning: This implementation of AdamW is deprecated and will be removed in a future version. Use the PyTorch implementation torch.optim.AdamW instead, or set `no_deprecation_warning=True` to disable this warning\n",
            "  warnings.warn(\n",
            "100%|██████████| 26/26 [1:01:30<00:00, 141.96s/it]"
          ]
        },
        {
          "name": "stdout",
          "output_type": "stream",
          "text": [
            "{'train_runtime': 3690.8359, 'train_samples_per_second': 0.049, 'train_steps_per_second': 0.007, 'train_loss': 13.13360830453726, 'epoch': 2.0}\n"
          ]
        },
        {
          "name": "stderr",
          "output_type": "stream",
          "text": [
            "\n"
          ]
        },
        {
          "data": {
            "text/plain": [
              "TrainOutput(global_step=26, training_loss=13.13360830453726, metrics={'train_runtime': 3690.8359, 'train_samples_per_second': 0.049, 'train_steps_per_second': 0.007, 'train_loss': 13.13360830453726, 'epoch': 2.0})"
            ]
          },
          "execution_count": 15,
          "metadata": {},
          "output_type": "execute_result"
        }
      ],
      "source": [
        "# initialize the model\n",
        "model = BartForConditionalGeneration.from_pretrained(\"facebook/bart-large\")\n",
        "\n",
        "# set the hyperparameters\n",
        "training_args = Seq2SeqTrainingArguments(\n",
        "    per_device_train_batch_size=7,\n",
        "    per_device_eval_batch_size=7,\n",
        "    output_dir='./results',\n",
        "    logging_dir='./logs',\n",
        "    num_train_epochs=2,\n",
        "    logging_steps=1000,\n",
        "    evaluation_strategy='steps',\n",
        "    eval_steps=1000,\n",
        "    warmup_steps=200,\n",
        "    weight_decay=0.05,\n",
        "    predict_with_generate=True\n",
        ")\n",
        "\n",
        "# initialize the trainer\n",
        "trainer = Seq2SeqTrainer(\n",
        "    model=model,\n",
        "    args=training_args,\n",
        "    train_dataset=train_dataset,\n",
        "    eval_dataset=test_dataset,\n",
        ")\n",
        "\n",
        "trainer.train()"
      ]
    },
    {
      "cell_type": "code",
      "execution_count": 16,
      "metadata": {},
      "outputs": [
        {
          "name": "stderr",
          "output_type": "stream",
          "text": [
            "100%|██████████| 2/2 [00:16<00:00,  8.15s/it]"
          ]
        },
        {
          "name": "stdout",
          "output_type": "stream",
          "text": [
            "{'eval_loss': 11.37539005279541, 'eval_runtime': 54.5248, 'eval_samples_per_second': 0.183, 'eval_steps_per_second': 0.037, 'epoch': 2.0}\n"
          ]
        },
        {
          "name": "stderr",
          "output_type": "stream",
          "text": [
            "\n"
          ]
        }
      ],
      "source": [
        "evaluation_results = trainer.evaluate()\n",
        "print(evaluation_results)"
      ]
    },
    {
      "cell_type": "markdown",
      "metadata": {},
      "source": [
        "## BLEU : Bilingual Evaluation Understudy Score"
      ]
    },
    {
      "cell_type": "code",
      "execution_count": 17,
      "metadata": {},
      "outputs": [],
      "source": [
        "import nltk\n",
        "from nltk.translate.bleu_score import SmoothingFunction, corpus_bleu, sentence_bleu\n",
        "\n",
        "\n",
        "def bleu(ref, gen):\n",
        "    ''' \n",
        "    calculate pair wise bleu score. uses nltk implementation\n",
        "    Args:\n",
        "        references : a list of reference sentences \n",
        "        candidates : a list of candidate(generated) sentences\n",
        "    Returns:\n",
        "        bleu score(float)\n",
        "    '''\n",
        "    ref_bleu = []\n",
        "    gen_bleu = []\n",
        "    for l in gen:\n",
        "        gen_bleu.append(l.split())\n",
        "    for i,l in enumerate(ref):\n",
        "        ref_bleu.append([l.split()])\n",
        "    cc = SmoothingFunction()\n",
        "    score_bleu = corpus_bleu(ref_bleu, gen_bleu, weights=(0, 1, 0, 0), smoothing_function=cc.method4)\n",
        "    return score_bleu\n"
      ]
    },
    {
      "cell_type": "markdown",
      "metadata": {},
      "source": [
        "## Rouge: Recall Oriented Understudy for Gisting Evaluation"
      ]
    },
    {
      "cell_type": "code",
      "execution_count": 18,
      "metadata": {},
      "outputs": [],
      "source": [
        "#rouge scores for a reference/generated sentence pair\n",
        "#source google seq2seq source code.\n",
        "\n",
        "import itertools\n",
        "\n",
        "#supporting function\n",
        "def _split_into_words(sentences):\n",
        "  \"\"\"Splits multiple sentences into words and flattens the result\"\"\"\n",
        "  return list(itertools.chain(*[_.split(\" \") for _ in sentences]))\n",
        "\n",
        "#supporting function\n",
        "def _get_word_ngrams(n, sentences):\n",
        "  \"\"\"Calculates word n-grams for multiple sentences.\n",
        "  \"\"\"\n",
        "  assert len(sentences) > 0\n",
        "  assert n > 0\n",
        "\n",
        "  words = _split_into_words(sentences)\n",
        "  return _get_ngrams(n, words)\n",
        "\n",
        "#supporting function\n",
        "def _get_ngrams(n, text):\n",
        "  \"\"\"Calcualtes n-grams.\n",
        "  Args:\n",
        "    n: which n-grams to calculate\n",
        "    text: An array of tokens\n",
        "  Returns:\n",
        "    A set of n-grams\n",
        "  \"\"\"\n",
        "  ngram_set = set()\n",
        "  text_length = len(text)\n",
        "  max_index_ngram_start = text_length - n\n",
        "  for i in range(max_index_ngram_start + 1):\n",
        "    ngram_set.add(tuple(text[i:i + n]))\n",
        "  return ngram_set\n",
        "\n",
        "def rouge_n(reference_sentences, evaluated_sentences, n=2):\n",
        "  \"\"\"\n",
        "  Computes ROUGE-N of two text collections of sentences.\n",
        "  Source: http://research.microsoft.com/en-us/um/people/cyl/download/\n",
        "  papers/rouge-working-note-v1.3.1.pdf\n",
        "  Args:\n",
        "    evaluated_sentences: The sentences that have been picked by the summarizer\n",
        "    reference_sentences: The sentences from the referene set\n",
        "    n: Size of ngram.  Defaults to 2.\n",
        "  Returns:\n",
        "    recall rouge score(float)\n",
        "  Raises:\n",
        "    ValueError: raises exception if a param has len <= 0\n",
        "  \"\"\"\n",
        "  if len(evaluated_sentences) <= 0 or len(reference_sentences) <= 0:\n",
        "    raise ValueError(\"Collections must contain at least 1 sentence.\")\n",
        "\n",
        "  evaluated_ngrams = _get_word_ngrams(n, evaluated_sentences)\n",
        "  reference_ngrams = _get_word_ngrams(n, reference_sentences)\n",
        "  reference_count = len(reference_ngrams)\n",
        "  evaluated_count = len(evaluated_ngrams)\n",
        "\n",
        "  # Gets the overlapping ngrams between evaluated and reference\n",
        "  overlapping_ngrams = evaluated_ngrams.intersection(reference_ngrams)\n",
        "  overlapping_count = len(overlapping_ngrams)\n",
        "\n",
        "  # Handle edge case. This isn't mathematically correct, but it's good enough\n",
        "  if evaluated_count == 0:\n",
        "    precision = 0.0\n",
        "  else:\n",
        "    precision = overlapping_count / evaluated_count\n",
        "\n",
        "  if reference_count == 0:\n",
        "    recall = 0.0\n",
        "  else:\n",
        "    recall = overlapping_count / reference_count\n",
        "\n",
        "  f1_score = 2.0 * ((precision * recall) / (precision + recall + 1e-8))\n",
        "\n",
        "  #just returning recall count in rouge, useful for our purpose\n",
        "  return recall"
      ]
    },
    {
      "cell_type": "code",
      "execution_count": 19,
      "metadata": {},
      "outputs": [
        {
          "name": "stderr",
          "output_type": "stream",
          "text": [
            "100%|██████████| 2/2 [00:36<00:00, 18.26s/it]\n"
          ]
        }
      ],
      "source": [
        "# gnerate a series of tokenize predictions based off of the test dataset\n",
        "tokenized_predictions = trainer.predict(test_dataset)"
      ]
    },
    {
      "cell_type": "code",
      "execution_count": 20,
      "metadata": {},
      "outputs": [
        {
          "name": "stdout",
          "output_type": "stream",
          "text": [
            "(10, 20)\n"
          ]
        }
      ],
      "source": [
        "print(tokenized_predictions[0].shape)"
      ]
    },
    {
      "cell_type": "code",
      "execution_count": 21,
      "metadata": {},
      "outputs": [
        {
          "name": "stdout",
          "output_type": "stream",
          "text": [
            "reference: The former Dean of St Edmundsbury in Suffolk dies at his home after a long battle with cancer. \n",
            "evaluated: The former Dean of St Edmundsbury in Suffolk has died after a long illness. \n",
            "\n",
            "reference: A cyclist dies after being hit by a car outside a sports centre in the town of Kirkliston in West Lothian. \n",
            "evaluated: A cyclist has died after being hit by a car in a town in West Loth \n",
            "\n",
            "reference: A man who went on the run after attacking his partner is jailed for three years and three months. \n",
            "evaluated: A man who went on the run after attacking his partner has been jailed for three years \n",
            "\n",
            "reference: Indonesian pop singer Nazril Irham faces police questioning after homemade explicit videos were circulated online. \n",
            "evaluated: Indonesian pop singer Nazril Irham faces questioning by police after homemade explicit videos \n",
            "\n",
            "reference: In a study of tropical guppies, scientists find that less attractive males have \"better sperm\". \n",
            "evaluated: In a study of tropical guppies, scientists have found that the less attractive males \n",
            "\n",
            "reference: The number of motorists arrested during Wiltshire Police's summer drink-drive campaign falls compared to the same period last year. \n",
            "evaluated: The number of motorists arrested during Wiltshire Police's summer drink-drive campaign has \n",
            "\n",
            "reference: A sea scooter rider is injured when his vehicle was involved with a collision with a boat off the Dorset coast. \n",
            "evaluated: A sea scooter rider was injured when his vehicle was involved in a collision with a \n",
            "\n",
            "reference: Racially-motivated violence is moving from Britain's big cities to smaller towns and villages, according to a report. \n",
            "evaluated: Racially-motivated violence is moving from Britain's big cities to smaller towns \n",
            "\n",
            "reference: Concern is raised for the welfare of a missing diabetes sufferer whose car was discovered in a car park in Surrey. \n",
            "evaluated: Concern has been raised for the welfare of a missing man whose car was discovered in \n",
            "\n",
            "reference: Two fishermen who give up catching shellfish over the summer to offer trips to tourists are expanding their business. \n",
            "evaluated: Two fishermen who give up catching shellfish over the summer to offer boat trips have expanded \n",
            "\n"
          ]
        }
      ],
      "source": [
        "reference_sentences = []\n",
        "evaluated_sentences = []\n",
        "\n",
        "for idx, example_prediction in enumerate(tokenized_predictions[0]):\n",
        "    tokens = tokenizer.decode(example_prediction, skip_special_tokens=True)\n",
        "    reference_sentences.append(test_df[\"short_description\"].iloc[idx])\n",
        "    evaluated_sentences.append(tokens)\n",
        "\n",
        "    print(\"reference:\", reference_sentences[idx], \"\\nevaluated:\", evaluated_sentences[idx], \"\\n\")\n",
        "\n"
      ]
    },
    {
      "cell_type": "code",
      "execution_count": 22,
      "metadata": {},
      "outputs": [
        {
          "name": "stdout",
          "output_type": "stream",
          "text": [
            "BLEU SCORE: 0.55, ROUGE SCORE: 0.54\n"
          ]
        }
      ],
      "source": [
        "# run the metrics \n",
        "bleu_score = bleu(reference_sentences, evaluated_sentences)\n",
        "rouge_score = rouge_n(reference_sentences, evaluated_sentences, n=2)\n",
        "\n",
        "print(\"BLEU SCORE: {:.2f}, ROUGE SCORE: {:.2f}\".format(bleu_score, rouge_score))\n"
      ]
    },
    {
      "cell_type": "markdown",
      "metadata": {},
      "source": [
        "## Evaluation\n",
        "\n",
        "Ultimately the final tuned model performed pretty well. It received a .55 bleu score, and .54 rouge score. Above .5 by either metric indicates a pretty good degree of similarity. As for the impact of the hyperparamers on the model, I must confress that I did not play around with these enough to get a good grasp on their effect. Seeing as how it took roughly one hour to train the model each time, I only changed the parameters about twice before coming to this final model. That being said there are a few things that I think I can say based on those changes. I think that increasing the weight decay, as well as decreasing eval_steps and increasing the batch sizes definity managed to make the model train a bit faster. As for the effect that the base model had, I couldn't say for sure. My best guess as to what the effect of using a different model, say a smaller one, on the overall preformce would be a decrease in the BLEU and ROUGE scores. This would probably be because of the model not being general enough to truly summarize the text well versus a large model that had been trained on more training data.   "
      ]
    },
    {
      "cell_type": "markdown",
      "metadata": {
        "id": "lNfWoGAqG0Jq"
      },
      "source": [
        "# Part 2: Reinforcement Learning\n",
        "\n",
        "## Task 2\n",
        "\n",
        "One real world application of reinforcement learning that can be modeled as an MDP is stock trading. For the sake of explanation, and my own limited understanding of stock trading, our trader will only be trading a single stock, with a limited of number of variables be taken into account. In this model, a state will only consist of two variables; the current price of the stock, and the trader's current position (The amount of said stock the trader possess). At any given momement, a trader can either buy or sell the stock. The choice of whether to buy or sell, and the related quantity make would then make up the action space of the MDP. The transision model would be a function which, the provided the trader's current state as described by their position and the current stock value, how much stock they sold or bought, and some other state returns the probability of transitioning to that newer state, provided their action and previous state. Finally, the reward in this model would be measured by the current value of the trader's position combined with whatever profit has been made from selling stock.\n",
        "\n",
        "## Task 3\n",
        "\n",
        "One problem in tading and finance that reinforcment learning has been applied to is risk managment when it comes to stock portfolios. More specifically, the risk-return balancing problem. This problem, as its name might imply, focuses on maximizing projected return from stocks while minimizing the risk that keeping those stocks poses. Reinforcment learning, and more specifically deep reinforcment learning can be used to solve this prblem. DeepTrader, is a model which does just this. To quote the paper in which the model was described; \"DeepTrader embeds macro market conditions as an idicator to dynamically adjust the proportion between long and short funds, to lower the risk of market fluctions\". Essentially the model uses broad trends in the stock market as a basis for the reward function of the reinforcment learning model.\n",
        "\n",
        "Although I couldn't find any code for DeepTrader alone, the model is implemented in TradeMaster, an open source platform for trading which specializes in more than just portfolio managment. The TradeMaster platform is composed of 6 different modules. The first of these is a modules is comprised of the data consisting of multi-modality market data of different financial assets at multiple granularity. The second module is the data processing pipeline. The third module is comprised of multiple high-fidelity data-driven market simulators, used for mainstream quantitative trading. The fourth module is a series of implementation for RL-based trading algorithms, 13 in total. Finally there are the evaluation toolkits which incorporate 17 different measures, all of which feed into the final module; the interface designed to be used by interdisciplinary users.\n",
        "\n",
        "\n",
        "DeepTrader: https://ojs.aaai.org/index.php/AAAI/article/view/16144 \\\\\n",
        "TradeMaster: https://github.com/TradeMaster-NTU/TradeMaster?tab=readme-ov-file#trademaster-an-rl-platform-for-trading\n",
        "\n"
      ]
    }
  ],
  "metadata": {
    "colab": {
      "provenance": []
    },
    "kernelspec": {
      "display_name": "Python 3",
      "name": "python3"
    },
    "language_info": {
      "codemirror_mode": {
        "name": "ipython",
        "version": 3
      },
      "file_extension": ".py",
      "mimetype": "text/x-python",
      "name": "python",
      "nbconvert_exporter": "python",
      "pygments_lexer": "ipython3",
      "version": "3.10.10"
    },
    "widgets": {
      "application/vnd.jupyter.widget-state+json": {
        "05ba0a91b24b44e2bd4e7558f0f1addd": {
          "model_module": "@jupyter-widgets/controls",
          "model_module_version": "1.5.0",
          "model_name": "DescriptionStyleModel",
          "state": {
            "_model_module": "@jupyter-widgets/controls",
            "_model_module_version": "1.5.0",
            "_model_name": "DescriptionStyleModel",
            "_view_count": null,
            "_view_module": "@jupyter-widgets/base",
            "_view_module_version": "1.2.0",
            "_view_name": "StyleView",
            "description_width": ""
          }
        },
        "060c4e2dddb94e568924ec5350f8c15f": {
          "model_module": "@jupyter-widgets/base",
          "model_module_version": "1.2.0",
          "model_name": "LayoutModel",
          "state": {
            "_model_module": "@jupyter-widgets/base",
            "_model_module_version": "1.2.0",
            "_model_name": "LayoutModel",
            "_view_count": null,
            "_view_module": "@jupyter-widgets/base",
            "_view_module_version": "1.2.0",
            "_view_name": "LayoutView",
            "align_content": null,
            "align_items": null,
            "align_self": null,
            "border": null,
            "bottom": null,
            "display": null,
            "flex": null,
            "flex_flow": null,
            "grid_area": null,
            "grid_auto_columns": null,
            "grid_auto_flow": null,
            "grid_auto_rows": null,
            "grid_column": null,
            "grid_gap": null,
            "grid_row": null,
            "grid_template_areas": null,
            "grid_template_columns": null,
            "grid_template_rows": null,
            "height": null,
            "justify_content": null,
            "justify_items": null,
            "left": null,
            "margin": null,
            "max_height": null,
            "max_width": null,
            "min_height": null,
            "min_width": null,
            "object_fit": null,
            "object_position": null,
            "order": null,
            "overflow": null,
            "overflow_x": null,
            "overflow_y": null,
            "padding": null,
            "right": null,
            "top": null,
            "visibility": null,
            "width": null
          }
        },
        "28f90d0dc74441c784c6fd0564e9939b": {
          "model_module": "@jupyter-widgets/controls",
          "model_module_version": "1.5.0",
          "model_name": "DescriptionStyleModel",
          "state": {
            "_model_module": "@jupyter-widgets/controls",
            "_model_module_version": "1.5.0",
            "_model_name": "DescriptionStyleModel",
            "_view_count": null,
            "_view_module": "@jupyter-widgets/base",
            "_view_module_version": "1.2.0",
            "_view_name": "StyleView",
            "description_width": ""
          }
        },
        "29b3808dead64ae7afa1fad66f6bdec1": {
          "model_module": "@jupyter-widgets/controls",
          "model_module_version": "1.5.0",
          "model_name": "HTMLModel",
          "state": {
            "_dom_classes": [],
            "_model_module": "@jupyter-widgets/controls",
            "_model_module_version": "1.5.0",
            "_model_name": "HTMLModel",
            "_view_count": null,
            "_view_module": "@jupyter-widgets/controls",
            "_view_module_version": "1.5.0",
            "_view_name": "HTMLView",
            "description": "",
            "description_tooltip": null,
            "layout": "IPY_MODEL_a7493a46bc5942f985bcc3f7c0b59048",
            "placeholder": "​",
            "style": "IPY_MODEL_05ba0a91b24b44e2bd4e7558f0f1addd",
            "value": "Map: 100%"
          }
        },
        "2baadfa2e8394111af9e2dae923e8d11": {
          "model_module": "@jupyter-widgets/base",
          "model_module_version": "1.2.0",
          "model_name": "LayoutModel",
          "state": {
            "_model_module": "@jupyter-widgets/base",
            "_model_module_version": "1.2.0",
            "_model_name": "LayoutModel",
            "_view_count": null,
            "_view_module": "@jupyter-widgets/base",
            "_view_module_version": "1.2.0",
            "_view_name": "LayoutView",
            "align_content": null,
            "align_items": null,
            "align_self": null,
            "border": null,
            "bottom": null,
            "display": null,
            "flex": null,
            "flex_flow": null,
            "grid_area": null,
            "grid_auto_columns": null,
            "grid_auto_flow": null,
            "grid_auto_rows": null,
            "grid_column": null,
            "grid_gap": null,
            "grid_row": null,
            "grid_template_areas": null,
            "grid_template_columns": null,
            "grid_template_rows": null,
            "height": null,
            "justify_content": null,
            "justify_items": null,
            "left": null,
            "margin": null,
            "max_height": null,
            "max_width": null,
            "min_height": null,
            "min_width": null,
            "object_fit": null,
            "object_position": null,
            "order": null,
            "overflow": null,
            "overflow_x": null,
            "overflow_y": null,
            "padding": null,
            "right": null,
            "top": null,
            "visibility": null,
            "width": null
          }
        },
        "2d611d263d824eb4b33ae798534d34a3": {
          "model_module": "@jupyter-widgets/controls",
          "model_module_version": "1.5.0",
          "model_name": "ProgressStyleModel",
          "state": {
            "_model_module": "@jupyter-widgets/controls",
            "_model_module_version": "1.5.0",
            "_model_name": "ProgressStyleModel",
            "_view_count": null,
            "_view_module": "@jupyter-widgets/base",
            "_view_module_version": "1.2.0",
            "_view_name": "StyleView",
            "bar_color": null,
            "description_width": ""
          }
        },
        "31df1e1b14d543a9a6883b684184ca1b": {
          "model_module": "@jupyter-widgets/controls",
          "model_module_version": "1.5.0",
          "model_name": "HBoxModel",
          "state": {
            "_dom_classes": [],
            "_model_module": "@jupyter-widgets/controls",
            "_model_module_version": "1.5.0",
            "_model_name": "HBoxModel",
            "_view_count": null,
            "_view_module": "@jupyter-widgets/controls",
            "_view_module_version": "1.5.0",
            "_view_name": "HBoxView",
            "box_style": "",
            "children": [
              "IPY_MODEL_29b3808dead64ae7afa1fad66f6bdec1",
              "IPY_MODEL_6ef1291a5af442ce8e5630ceb37f8ec9",
              "IPY_MODEL_a1746dfc10ac413795ac158738ced947"
            ],
            "layout": "IPY_MODEL_060c4e2dddb94e568924ec5350f8c15f"
          }
        },
        "3d1408995a3a48dabaa8410efb6e6fdf": {
          "model_module": "@jupyter-widgets/controls",
          "model_module_version": "1.5.0",
          "model_name": "HTMLModel",
          "state": {
            "_dom_classes": [],
            "_model_module": "@jupyter-widgets/controls",
            "_model_module_version": "1.5.0",
            "_model_name": "HTMLModel",
            "_view_count": null,
            "_view_module": "@jupyter-widgets/controls",
            "_view_module_version": "1.5.0",
            "_view_name": "HTMLView",
            "description": "",
            "description_tooltip": null,
            "layout": "IPY_MODEL_a77fa385847346318d441bdf6642de4c",
            "placeholder": "​",
            "style": "IPY_MODEL_9e5dd2bfffc948529dc26c7ec9b45d9b",
            "value": "Map: 100%"
          }
        },
        "49116ea8b3f04cc890652bad4fa608d4": {
          "model_module": "@jupyter-widgets/controls",
          "model_module_version": "1.5.0",
          "model_name": "FloatProgressModel",
          "state": {
            "_dom_classes": [],
            "_model_module": "@jupyter-widgets/controls",
            "_model_module_version": "1.5.0",
            "_model_name": "FloatProgressModel",
            "_view_count": null,
            "_view_module": "@jupyter-widgets/controls",
            "_view_module_version": "1.5.0",
            "_view_name": "ProgressView",
            "bar_style": "success",
            "description": "",
            "description_tooltip": null,
            "layout": "IPY_MODEL_9d3a1b4f9abe42beb39055146017c7da",
            "max": 8,
            "min": 0,
            "orientation": "horizontal",
            "style": "IPY_MODEL_ca0000084b47418795696d2501c724ea",
            "value": 8
          }
        },
        "6ef1291a5af442ce8e5630ceb37f8ec9": {
          "model_module": "@jupyter-widgets/controls",
          "model_module_version": "1.5.0",
          "model_name": "FloatProgressModel",
          "state": {
            "_dom_classes": [],
            "_model_module": "@jupyter-widgets/controls",
            "_model_module_version": "1.5.0",
            "_model_name": "FloatProgressModel",
            "_view_count": null,
            "_view_module": "@jupyter-widgets/controls",
            "_view_module_version": "1.5.0",
            "_view_name": "ProgressView",
            "bar_style": "success",
            "description": "",
            "description_tooltip": null,
            "layout": "IPY_MODEL_e9a37f999ad14f6ab006374f560c37b0",
            "max": 2,
            "min": 0,
            "orientation": "horizontal",
            "style": "IPY_MODEL_2d611d263d824eb4b33ae798534d34a3",
            "value": 2
          }
        },
        "7c457df881024b2f916e7f05a328906e": {
          "model_module": "@jupyter-widgets/base",
          "model_module_version": "1.2.0",
          "model_name": "LayoutModel",
          "state": {
            "_model_module": "@jupyter-widgets/base",
            "_model_module_version": "1.2.0",
            "_model_name": "LayoutModel",
            "_view_count": null,
            "_view_module": "@jupyter-widgets/base",
            "_view_module_version": "1.2.0",
            "_view_name": "LayoutView",
            "align_content": null,
            "align_items": null,
            "align_self": null,
            "border": null,
            "bottom": null,
            "display": null,
            "flex": null,
            "flex_flow": null,
            "grid_area": null,
            "grid_auto_columns": null,
            "grid_auto_flow": null,
            "grid_auto_rows": null,
            "grid_column": null,
            "grid_gap": null,
            "grid_row": null,
            "grid_template_areas": null,
            "grid_template_columns": null,
            "grid_template_rows": null,
            "height": null,
            "justify_content": null,
            "justify_items": null,
            "left": null,
            "margin": null,
            "max_height": null,
            "max_width": null,
            "min_height": null,
            "min_width": null,
            "object_fit": null,
            "object_position": null,
            "order": null,
            "overflow": null,
            "overflow_x": null,
            "overflow_y": null,
            "padding": null,
            "right": null,
            "top": null,
            "visibility": null,
            "width": null
          }
        },
        "890cecd992ef4c05972e7d361b050f0e": {
          "model_module": "@jupyter-widgets/controls",
          "model_module_version": "1.5.0",
          "model_name": "HTMLModel",
          "state": {
            "_dom_classes": [],
            "_model_module": "@jupyter-widgets/controls",
            "_model_module_version": "1.5.0",
            "_model_name": "HTMLModel",
            "_view_count": null,
            "_view_module": "@jupyter-widgets/controls",
            "_view_module_version": "1.5.0",
            "_view_name": "HTMLView",
            "description": "",
            "description_tooltip": null,
            "layout": "IPY_MODEL_7c457df881024b2f916e7f05a328906e",
            "placeholder": "​",
            "style": "IPY_MODEL_b0eb6a7483c94109a550d7668e70705a",
            "value": " 8/8 [00:00&lt;00:00, 26.87 examples/s]"
          }
        },
        "9d3a1b4f9abe42beb39055146017c7da": {
          "model_module": "@jupyter-widgets/base",
          "model_module_version": "1.2.0",
          "model_name": "LayoutModel",
          "state": {
            "_model_module": "@jupyter-widgets/base",
            "_model_module_version": "1.2.0",
            "_model_name": "LayoutModel",
            "_view_count": null,
            "_view_module": "@jupyter-widgets/base",
            "_view_module_version": "1.2.0",
            "_view_name": "LayoutView",
            "align_content": null,
            "align_items": null,
            "align_self": null,
            "border": null,
            "bottom": null,
            "display": null,
            "flex": null,
            "flex_flow": null,
            "grid_area": null,
            "grid_auto_columns": null,
            "grid_auto_flow": null,
            "grid_auto_rows": null,
            "grid_column": null,
            "grid_gap": null,
            "grid_row": null,
            "grid_template_areas": null,
            "grid_template_columns": null,
            "grid_template_rows": null,
            "height": null,
            "justify_content": null,
            "justify_items": null,
            "left": null,
            "margin": null,
            "max_height": null,
            "max_width": null,
            "min_height": null,
            "min_width": null,
            "object_fit": null,
            "object_position": null,
            "order": null,
            "overflow": null,
            "overflow_x": null,
            "overflow_y": null,
            "padding": null,
            "right": null,
            "top": null,
            "visibility": null,
            "width": null
          }
        },
        "9e5dd2bfffc948529dc26c7ec9b45d9b": {
          "model_module": "@jupyter-widgets/controls",
          "model_module_version": "1.5.0",
          "model_name": "DescriptionStyleModel",
          "state": {
            "_model_module": "@jupyter-widgets/controls",
            "_model_module_version": "1.5.0",
            "_model_name": "DescriptionStyleModel",
            "_view_count": null,
            "_view_module": "@jupyter-widgets/base",
            "_view_module_version": "1.2.0",
            "_view_name": "StyleView",
            "description_width": ""
          }
        },
        "a1746dfc10ac413795ac158738ced947": {
          "model_module": "@jupyter-widgets/controls",
          "model_module_version": "1.5.0",
          "model_name": "HTMLModel",
          "state": {
            "_dom_classes": [],
            "_model_module": "@jupyter-widgets/controls",
            "_model_module_version": "1.5.0",
            "_model_name": "HTMLModel",
            "_view_count": null,
            "_view_module": "@jupyter-widgets/controls",
            "_view_module_version": "1.5.0",
            "_view_name": "HTMLView",
            "description": "",
            "description_tooltip": null,
            "layout": "IPY_MODEL_a627f514d3ff48e5a75c8e8b5b8d34d8",
            "placeholder": "​",
            "style": "IPY_MODEL_28f90d0dc74441c784c6fd0564e9939b",
            "value": " 2/2 [00:00&lt;00:00, 18.48 examples/s]"
          }
        },
        "a627f514d3ff48e5a75c8e8b5b8d34d8": {
          "model_module": "@jupyter-widgets/base",
          "model_module_version": "1.2.0",
          "model_name": "LayoutModel",
          "state": {
            "_model_module": "@jupyter-widgets/base",
            "_model_module_version": "1.2.0",
            "_model_name": "LayoutModel",
            "_view_count": null,
            "_view_module": "@jupyter-widgets/base",
            "_view_module_version": "1.2.0",
            "_view_name": "LayoutView",
            "align_content": null,
            "align_items": null,
            "align_self": null,
            "border": null,
            "bottom": null,
            "display": null,
            "flex": null,
            "flex_flow": null,
            "grid_area": null,
            "grid_auto_columns": null,
            "grid_auto_flow": null,
            "grid_auto_rows": null,
            "grid_column": null,
            "grid_gap": null,
            "grid_row": null,
            "grid_template_areas": null,
            "grid_template_columns": null,
            "grid_template_rows": null,
            "height": null,
            "justify_content": null,
            "justify_items": null,
            "left": null,
            "margin": null,
            "max_height": null,
            "max_width": null,
            "min_height": null,
            "min_width": null,
            "object_fit": null,
            "object_position": null,
            "order": null,
            "overflow": null,
            "overflow_x": null,
            "overflow_y": null,
            "padding": null,
            "right": null,
            "top": null,
            "visibility": null,
            "width": null
          }
        },
        "a7493a46bc5942f985bcc3f7c0b59048": {
          "model_module": "@jupyter-widgets/base",
          "model_module_version": "1.2.0",
          "model_name": "LayoutModel",
          "state": {
            "_model_module": "@jupyter-widgets/base",
            "_model_module_version": "1.2.0",
            "_model_name": "LayoutModel",
            "_view_count": null,
            "_view_module": "@jupyter-widgets/base",
            "_view_module_version": "1.2.0",
            "_view_name": "LayoutView",
            "align_content": null,
            "align_items": null,
            "align_self": null,
            "border": null,
            "bottom": null,
            "display": null,
            "flex": null,
            "flex_flow": null,
            "grid_area": null,
            "grid_auto_columns": null,
            "grid_auto_flow": null,
            "grid_auto_rows": null,
            "grid_column": null,
            "grid_gap": null,
            "grid_row": null,
            "grid_template_areas": null,
            "grid_template_columns": null,
            "grid_template_rows": null,
            "height": null,
            "justify_content": null,
            "justify_items": null,
            "left": null,
            "margin": null,
            "max_height": null,
            "max_width": null,
            "min_height": null,
            "min_width": null,
            "object_fit": null,
            "object_position": null,
            "order": null,
            "overflow": null,
            "overflow_x": null,
            "overflow_y": null,
            "padding": null,
            "right": null,
            "top": null,
            "visibility": null,
            "width": null
          }
        },
        "a77fa385847346318d441bdf6642de4c": {
          "model_module": "@jupyter-widgets/base",
          "model_module_version": "1.2.0",
          "model_name": "LayoutModel",
          "state": {
            "_model_module": "@jupyter-widgets/base",
            "_model_module_version": "1.2.0",
            "_model_name": "LayoutModel",
            "_view_count": null,
            "_view_module": "@jupyter-widgets/base",
            "_view_module_version": "1.2.0",
            "_view_name": "LayoutView",
            "align_content": null,
            "align_items": null,
            "align_self": null,
            "border": null,
            "bottom": null,
            "display": null,
            "flex": null,
            "flex_flow": null,
            "grid_area": null,
            "grid_auto_columns": null,
            "grid_auto_flow": null,
            "grid_auto_rows": null,
            "grid_column": null,
            "grid_gap": null,
            "grid_row": null,
            "grid_template_areas": null,
            "grid_template_columns": null,
            "grid_template_rows": null,
            "height": null,
            "justify_content": null,
            "justify_items": null,
            "left": null,
            "margin": null,
            "max_height": null,
            "max_width": null,
            "min_height": null,
            "min_width": null,
            "object_fit": null,
            "object_position": null,
            "order": null,
            "overflow": null,
            "overflow_x": null,
            "overflow_y": null,
            "padding": null,
            "right": null,
            "top": null,
            "visibility": null,
            "width": null
          }
        },
        "b0eb6a7483c94109a550d7668e70705a": {
          "model_module": "@jupyter-widgets/controls",
          "model_module_version": "1.5.0",
          "model_name": "DescriptionStyleModel",
          "state": {
            "_model_module": "@jupyter-widgets/controls",
            "_model_module_version": "1.5.0",
            "_model_name": "DescriptionStyleModel",
            "_view_count": null,
            "_view_module": "@jupyter-widgets/base",
            "_view_module_version": "1.2.0",
            "_view_name": "StyleView",
            "description_width": ""
          }
        },
        "c6605ebaf63242229987f1865d44e8ae": {
          "model_module": "@jupyter-widgets/controls",
          "model_module_version": "1.5.0",
          "model_name": "HBoxModel",
          "state": {
            "_dom_classes": [],
            "_model_module": "@jupyter-widgets/controls",
            "_model_module_version": "1.5.0",
            "_model_name": "HBoxModel",
            "_view_count": null,
            "_view_module": "@jupyter-widgets/controls",
            "_view_module_version": "1.5.0",
            "_view_name": "HBoxView",
            "box_style": "",
            "children": [
              "IPY_MODEL_3d1408995a3a48dabaa8410efb6e6fdf",
              "IPY_MODEL_49116ea8b3f04cc890652bad4fa608d4",
              "IPY_MODEL_890cecd992ef4c05972e7d361b050f0e"
            ],
            "layout": "IPY_MODEL_2baadfa2e8394111af9e2dae923e8d11"
          }
        },
        "ca0000084b47418795696d2501c724ea": {
          "model_module": "@jupyter-widgets/controls",
          "model_module_version": "1.5.0",
          "model_name": "ProgressStyleModel",
          "state": {
            "_model_module": "@jupyter-widgets/controls",
            "_model_module_version": "1.5.0",
            "_model_name": "ProgressStyleModel",
            "_view_count": null,
            "_view_module": "@jupyter-widgets/base",
            "_view_module_version": "1.2.0",
            "_view_name": "StyleView",
            "bar_color": null,
            "description_width": ""
          }
        },
        "e9a37f999ad14f6ab006374f560c37b0": {
          "model_module": "@jupyter-widgets/base",
          "model_module_version": "1.2.0",
          "model_name": "LayoutModel",
          "state": {
            "_model_module": "@jupyter-widgets/base",
            "_model_module_version": "1.2.0",
            "_model_name": "LayoutModel",
            "_view_count": null,
            "_view_module": "@jupyter-widgets/base",
            "_view_module_version": "1.2.0",
            "_view_name": "LayoutView",
            "align_content": null,
            "align_items": null,
            "align_self": null,
            "border": null,
            "bottom": null,
            "display": null,
            "flex": null,
            "flex_flow": null,
            "grid_area": null,
            "grid_auto_columns": null,
            "grid_auto_flow": null,
            "grid_auto_rows": null,
            "grid_column": null,
            "grid_gap": null,
            "grid_row": null,
            "grid_template_areas": null,
            "grid_template_columns": null,
            "grid_template_rows": null,
            "height": null,
            "justify_content": null,
            "justify_items": null,
            "left": null,
            "margin": null,
            "max_height": null,
            "max_width": null,
            "min_height": null,
            "min_width": null,
            "object_fit": null,
            "object_position": null,
            "order": null,
            "overflow": null,
            "overflow_x": null,
            "overflow_y": null,
            "padding": null,
            "right": null,
            "top": null,
            "visibility": null,
            "width": null
          }
        }
      }
    }
  },
  "nbformat": 4,
  "nbformat_minor": 0
}
